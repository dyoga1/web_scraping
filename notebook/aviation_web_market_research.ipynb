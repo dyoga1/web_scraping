{
 "cells": [
  {
   "cell_type": "code",
   "execution_count": 1,
   "id": "04d5bcb4",
   "metadata": {},
   "outputs": [],
   "source": [
    "from selenium import webdriver\n",
    "from selenium.webdriver.common.keys import Keys\n",
    "from selenium.webdriver.common.action_chains import ActionChains\n",
    "from bs4 import BeautifulSoup\n",
    "import pandas as pd\n",
    "import time\n",
    "\n",
    "from selenium.webdriver.chrome.options import Options\n",
    "from selenium.webdriver.support.ui import Select\n",
    "from selenium.webdriver.common.by import By\n",
    "\n",
    "from selenium.webdriver.support.ui import WebDriverWait\n",
    "from selenium.webdriver.support import expected_conditions as EC"
   ]
  },
  {
   "cell_type": "code",
   "execution_count": 61,
   "id": "e6e77e63",
   "metadata": {},
   "outputs": [
    {
     "name": "stderr",
     "output_type": "stream",
     "text": [
      "C:\\Users\\581825\\AppData\\Local\\Temp\\ipykernel_17260\\4187189892.py:4: DeprecationWarning: executable_path has been deprecated, please pass in a Service object\n",
      "  chrome = webdriver.Chrome(\"chromedriver.exe\",chrome_options=chrome_options)\n",
      "C:\\Users\\581825\\AppData\\Local\\Temp\\ipykernel_17260\\4187189892.py:4: DeprecationWarning: use options instead of chrome_options\n",
      "  chrome = webdriver.Chrome(\"chromedriver.exe\",chrome_options=chrome_options)\n"
     ]
    }
   ],
   "source": [
    "PROXY = \"103.65.236.89:3128\"\n",
    "chrome_options = Options()\n",
    "chrome_options.add_argument('--proxy-server=%s' % PROXY)\n",
    "chrome = webdriver.Chrome(\"chromedriver.exe\",chrome_options=chrome_options)\n",
    "chrome.get(\"https://whatismyipaddress.com/\")"
   ]
  },
  {
   "cell_type": "code",
   "execution_count": 54,
   "id": "1b3c5e16",
   "metadata": {},
   "outputs": [
    {
     "name": "stderr",
     "output_type": "stream",
     "text": [
      "C:\\Users\\581825\\AppData\\Local\\Temp\\ipykernel_17260\\2949769415.py:6: DeprecationWarning: executable_path has been deprecated, please pass in a Service object\n",
      "  driver = webdriver.Chrome(\"chromedriver.exe\")\n",
      "C:\\Users\\581825\\AppData\\Local\\Temp\\ipykernel_17260\\2949769415.py:7: DeprecationWarning: executable_path has been deprecated, please pass in a Service object\n",
      "  driver2 = webdriver.Chrome(\"chromedriver.exe\")\n"
     ]
    },
    {
     "ename": "AttributeError",
     "evalue": "'list' object has no attribute 'text'",
     "output_type": "error",
     "traceback": [
      "\u001b[1;31m---------------------------------------------------------------------------\u001b[0m",
      "\u001b[1;31mAttributeError\u001b[0m                            Traceback (most recent call last)",
      "Cell \u001b[1;32mIn[54], line 28\u001b[0m\n\u001b[0;32m     26\u001b[0m driver2\u001b[38;5;241m.\u001b[39mget(lnk)\n\u001b[0;32m     27\u001b[0m tel \u001b[38;5;241m=\u001b[39m WebDriverWait(driver2, \u001b[38;5;241m10\u001b[39m)\u001b[38;5;241m.\u001b[39muntil(EC\u001b[38;5;241m.\u001b[39mpresence_of_all_elements_located((By\u001b[38;5;241m.\u001b[39mXPATH, \u001b[38;5;124m\"\u001b[39m\u001b[38;5;124m/html/body/div[12]/div[1]/div[2]/div[3]/div/div[12]/div/div/div[1]/ul/li[1]\u001b[39m\u001b[38;5;124m\"\u001b[39m)))\n\u001b[1;32m---> 28\u001b[0m _row\u001b[38;5;241m.\u001b[39mappend(\u001b[43mtel\u001b[49m\u001b[38;5;241;43m.\u001b[39;49m\u001b[43mtext\u001b[49m\u001b[38;5;241m.\u001b[39mstrip())\n\u001b[0;32m     29\u001b[0m email \u001b[38;5;241m=\u001b[39m WebDriverWait(driver2, \u001b[38;5;241m10\u001b[39m)\u001b[38;5;241m.\u001b[39muntil(EC\u001b[38;5;241m.\u001b[39mpresence_of_all_elements_located((By\u001b[38;5;241m.\u001b[39mXPATH, \u001b[38;5;124m\"\u001b[39m\u001b[38;5;124m/html/body/div[12]/div[1]/div[2]/div[3]/div/div[12]/div/div/div[1]/ul/li[3]/a\u001b[39m\u001b[38;5;124m\"\u001b[39m)))\n\u001b[0;32m     30\u001b[0m _row\u001b[38;5;241m.\u001b[39mappend(email\u001b[38;5;241m.\u001b[39mtext\u001b[38;5;241m.\u001b[39mstrip())\n",
      "\u001b[1;31mAttributeError\u001b[0m: 'list' object has no attribute 'text'"
     ]
    }
   ],
   "source": [
    "waktu_tunggu = 4\n",
    "\n",
    "# chrome_options = Options()\n",
    "# chrome_options.add_argument(\"--headless\")\n",
    "# driver = webdriver.Chrome(\"chromedriver.exe\",options=chrome_options)\n",
    "driver = webdriver.Chrome(\"chromedriver.exe\")\n",
    "driver2 = webdriver.Chrome(\"chromedriver.exe\")\n",
    "\n",
    "res = []\n",
    "\n",
    "# Scrape\n",
    "driver.get(\"http://www.charterbroker.aero/direct_operator_country_update.html?ops=Passenger\")\n",
    "for i in range(1,4):\n",
    "    driver.get(f\"http://www.charterbroker.aero/direct_operatorsearch.html?pagenumber={i}\")\n",
    "    WebDriverWait(driver, 10).until(EC.presence_of_all_elements_located((By.XPATH, \"//*[@id='contentMain']/table[2]\")))\n",
    "    page=BeautifulSoup(driver.page_source)\n",
    "    table = page.find('table',{'bgcolor':'#CCCCCC'})\n",
    "    table_kecil = table.find_all('table')\n",
    "    for row in table_kecil:\n",
    "        td = row.find_all('td')\n",
    "        _row = [row.text.strip() for row in td if row.text.strip()]\n",
    "        lnk = row.find('a',href=True)['href']\n",
    "        _row.append(lnk)\n",
    "        \n",
    "        #Check per page detail\n",
    "        driver2.get(lnk)\n",
    "        tel = WebDriverWait(driver2, 10).until(EC.presence_of_all_elements_located((By.XPATH, \"/html/body/div[12]/div[1]/div[2]/div[3]/div/div[12]/div/div/div[1]/ul/li[1]\")))\n",
    "        _row.append(tel.text.strip())\n",
    "        email = WebDriverWait(driver2, 10).until(EC.presence_of_all_elements_located((By.XPATH, \"/html/body/div[12]/div[1]/div[2]/div[3]/div/div[12]/div/div/div[1]/ul/li[3]/a\")))\n",
    "        _row.append(email.text.strip())\n",
    "        web = WebDriverWait(driver2, 10).until(EC.presence_of_all_elements_located((By.XPATH, \"/html/body/div[12]/div[1]/div[2]/div[3]/div/div[12]/div/div/div[2]/ul/li/a\")))\n",
    "        _row.append(web.text.strip())\n",
    "        \n",
    "        res.append(_row)\n",
    "df = pd.DataFrame(res,columns=['Company','Location','Link','Tel','Email','Web'])\n",
    "df"
   ]
  },
  {
   "cell_type": "code",
   "execution_count": 55,
   "id": "54de837d",
   "metadata": {},
   "outputs": [
    {
     "data": {
      "text/plain": [
       "[]"
      ]
     },
     "execution_count": 55,
     "metadata": {},
     "output_type": "execute_result"
    }
   ],
   "source": [
    "res"
   ]
  },
  {
   "cell_type": "code",
   "execution_count": 9,
   "id": "c54174cb",
   "metadata": {},
   "outputs": [],
   "source": [
    "halaman = 12\n",
    "\n",
    "res = []\n",
    "# driver.get(\"https://www.planespotters.net/production-list/Boeing/747\")\n",
    "# driver.get(\"https://www.planespotters.net/production-list/Airbus/A330-A340\")\n",
    "# driver.get(\"https://www.planespotters.net/production-list/Boeing/777\")\n",
    "# driver.get(\"https://www.planespotters.net/production-list/Boeing/787\")\n",
    "# driver.get(\"https://www.planespotters.net/production-list/Boeing/767\")\n",
    "driver.get(\"https://www.planespotters.net/production-list/Airbus/A350\")\n",
    "\n",
    "for i in range(halaman):\n",
    "    time.sleep(3)\n",
    "    WebDriverWait(driver, 10).until(EC.presence_of_all_elements_located((By.XPATH, \"//*[@id='content']/div/div[3]/div[1]/div\")))\n",
    "    try:\n",
    "        page=BeautifulSoup(driver.page_source)\n",
    "        table = page.find('div',{'class':'datatable dt-outline dt-striped'})\n",
    "        table_rows = table.find_all('div',{'class':'dt-tr'})\n",
    "        for tr in table_rows:         \n",
    "#Cari link\n",
    "            lnk = tr.select_one(\"div:nth-of-type(2)\").select_one(\"a\")['href']\n",
    "            lnk = \"https://www.planespotters.net\"+lnk\n",
    "            row = [lnk]\n",
    "            \n",
    "            td = tr.find_all('div',{'class':'dt-td'})\n",
    "            row.extend([tr.text.strip() for tr in td if tr.text.strip()])\n",
    "            if row:\n",
    "                res.append(row)\n",
    "        WebDriverWait(driver, 10).until(EC.element_to_be_clickable((By.XPATH,\"//*[@id='content']/div/div[1]/div/div[3]\"))).click()\n",
    "        WebDriverWait(driver, 3)\n",
    "    except Exception:\n",
    "        driver.refresh()\n",
    "#     time.sleep(3)\n",
    "#     iframe = wait.until(EC.element_to_be_clickable([By.CSS_SELECTOR, '#cnsw > iframe']))\n",
    "#     driver.switch_to.frame(iframe)"
   ]
  },
  {
   "cell_type": "code",
   "execution_count": 10,
   "id": "fe31151e",
   "metadata": {},
   "outputs": [],
   "source": [
    "df = pd.DataFrame(res,columns=['Link Detail','MSN','Model','Registration','Airline','Delivery Date','Status','Previous REG','Remark'])\n",
    "df.to_csv('A350.csv')"
   ]
  },
  {
   "cell_type": "code",
   "execution_count": 78,
   "id": "f6a6884e",
   "metadata": {},
   "outputs": [
    {
     "data": {
      "text/plain": [
       "numpy.ndarray"
      ]
     },
     "execution_count": 78,
     "metadata": {},
     "output_type": "execute_result"
    }
   ],
   "source": [
    "b747 = pd.read_csv('B747.csv').dropna(subset='MSN')\n",
    "b777 = pd.read_csv('B777.csv').dropna(subset='MSN')\n",
    "a330 = pd.read_csv('A330_A340.csv').dropna(subset='MSN')\n",
    "links = b747['Link Detail'].unique()\n",
    "links = np.append(links, b777['Link Detail'].unique()) \n",
    "links = np.append(links, a330['Link Detail'].unique()) \n",
    "# links.append(pd.Series(a330['Link Detail']))\n",
    "\n",
    "# type(links)"
   ]
  },
  {
   "cell_type": "code",
   "execution_count": 79,
   "id": "ac4ce53f",
   "metadata": {},
   "outputs": [
    {
     "ename": "NoSuchWindowException",
     "evalue": "Message: no such window: target window already closed\nfrom unknown error: web view not found\n  (Session info: chrome=108.0.5359.99)\nStacktrace:\nBacktrace:\n\tOrdinal0 [0x0084ACD3+2075859]\n\tOrdinal0 [0x007DEE61+1633889]\n\tOrdinal0 [0x006DB7BD+571325]\n\tOrdinal0 [0x006C2E1A+470554]\n\tOrdinal0 [0x0072AA0B+895499]\n\tOrdinal0 [0x0073AC96+961686]\n\tOrdinal0 [0x00727136+880950]\n\tOrdinal0 [0x006FFEFD+720637]\n\tOrdinal0 [0x00700F3F+724799]\n\tGetHandleVerifier [0x00AFEED2+2769538]\n\tGetHandleVerifier [0x00AF0D95+2711877]\n\tGetHandleVerifier [0x008DA03A+521194]\n\tGetHandleVerifier [0x008D8DA0+516432]\n\tOrdinal0 [0x007E682C+1665068]\n\tOrdinal0 [0x007EB128+1683752]\n\tOrdinal0 [0x007EB215+1683989]\n\tOrdinal0 [0x007F6484+1729668]\n\tBaseThreadInitThunk [0x7679FEF9+25]\n\tRtlGetAppContainerNamedObjectPath [0x770A7BBE+286]\n\tRtlGetAppContainerNamedObjectPath [0x770A7B8E+238]\n",
     "output_type": "error",
     "traceback": [
      "\u001b[1;31m---------------------------------------------------------------------------\u001b[0m",
      "\u001b[1;31mNoSuchWindowException\u001b[0m                     Traceback (most recent call last)",
      "Input \u001b[1;32mIn [79]\u001b[0m, in \u001b[0;36m<cell line: 3>\u001b[1;34m()\u001b[0m\n\u001b[0;32m      6\u001b[0m driver\u001b[38;5;241m.\u001b[39mget(link)\n\u001b[1;32m----> 7\u001b[0m \u001b[43mWebDriverWait\u001b[49m\u001b[43m(\u001b[49m\u001b[43mdriver\u001b[49m\u001b[43m,\u001b[49m\u001b[43m \u001b[49m\u001b[38;5;241;43m10\u001b[39;49m\u001b[43m)\u001b[49m\u001b[38;5;241;43m.\u001b[39;49m\u001b[43muntil\u001b[49m\u001b[43m(\u001b[49m\u001b[43mEC\u001b[49m\u001b[38;5;241;43m.\u001b[39;49m\u001b[43mpresence_of_all_elements_located\u001b[49m\u001b[43m(\u001b[49m\u001b[43m(\u001b[49m\u001b[43mBy\u001b[49m\u001b[38;5;241;43m.\u001b[39;49m\u001b[43mXPATH\u001b[49m\u001b[43m,\u001b[49m\u001b[38;5;124;43m\"\u001b[39;49m\u001b[38;5;124;43m//*[@id=\u001b[39;49m\u001b[38;5;124;43m'\u001b[39;49m\u001b[38;5;124;43mcontent\u001b[39;49m\u001b[38;5;124;43m'\u001b[39;49m\u001b[38;5;124;43m]/div[2]/div\u001b[39;49m\u001b[38;5;124;43m\"\u001b[39;49m\u001b[43m)\u001b[49m\u001b[43m)\u001b[49m\u001b[43m)\u001b[49m\n\u001b[0;32m      8\u001b[0m ff \u001b[38;5;241m=\u001b[39m WebDriverWait(driver, \u001b[38;5;241m10\u001b[39m)\u001b[38;5;241m.\u001b[39muntil(EC\u001b[38;5;241m.\u001b[39mpresence_of_element_located((By\u001b[38;5;241m.\u001b[39mXPATH,\u001b[38;5;124m\"\u001b[39m\u001b[38;5;124m//*[@id=\u001b[39m\u001b[38;5;124m'\u001b[39m\u001b[38;5;124mcontent\u001b[39m\u001b[38;5;124m'\u001b[39m\u001b[38;5;124m]/div[1]/div/div[1]/div[1]/div[4]/div[2]\u001b[39m\u001b[38;5;124m\"\u001b[39m)))\u001b[38;5;241m.\u001b[39mtext\n",
      "File \u001b[1;32m~\\Anaconda3\\lib\\site-packages\\selenium\\webdriver\\support\\wait.py:81\u001b[0m, in \u001b[0;36mWebDriverWait.until\u001b[1;34m(self, method, message)\u001b[0m\n\u001b[0;32m     80\u001b[0m \u001b[38;5;28;01mtry\u001b[39;00m:\n\u001b[1;32m---> 81\u001b[0m     value \u001b[38;5;241m=\u001b[39m \u001b[43mmethod\u001b[49m\u001b[43m(\u001b[49m\u001b[38;5;28;43mself\u001b[39;49m\u001b[38;5;241;43m.\u001b[39;49m\u001b[43m_driver\u001b[49m\u001b[43m)\u001b[49m\n\u001b[0;32m     82\u001b[0m     \u001b[38;5;28;01mif\u001b[39;00m value:\n",
      "File \u001b[1;32m~\\Anaconda3\\lib\\site-packages\\selenium\\webdriver\\support\\expected_conditions.py:158\u001b[0m, in \u001b[0;36mpresence_of_all_elements_located.<locals>._predicate\u001b[1;34m(driver)\u001b[0m\n\u001b[0;32m    157\u001b[0m \u001b[38;5;28;01mdef\u001b[39;00m \u001b[38;5;21m_predicate\u001b[39m(driver):\n\u001b[1;32m--> 158\u001b[0m     \u001b[38;5;28;01mreturn\u001b[39;00m \u001b[43mdriver\u001b[49m\u001b[38;5;241;43m.\u001b[39;49m\u001b[43mfind_elements\u001b[49m\u001b[43m(\u001b[49m\u001b[38;5;241;43m*\u001b[39;49m\u001b[43mlocator\u001b[49m\u001b[43m)\u001b[49m\n",
      "File \u001b[1;32m~\\Anaconda3\\lib\\site-packages\\selenium\\webdriver\\remote\\webdriver.py:889\u001b[0m, in \u001b[0;36mWebDriver.find_elements\u001b[1;34m(self, by, value)\u001b[0m\n\u001b[0;32m    887\u001b[0m \u001b[38;5;66;03m# Return empty list if driver returns null\u001b[39;00m\n\u001b[0;32m    888\u001b[0m \u001b[38;5;66;03m# See https://github.com/SeleniumHQ/selenium/issues/4555\u001b[39;00m\n\u001b[1;32m--> 889\u001b[0m \u001b[38;5;28;01mreturn\u001b[39;00m \u001b[38;5;28;43mself\u001b[39;49m\u001b[38;5;241;43m.\u001b[39;49m\u001b[43mexecute\u001b[49m\u001b[43m(\u001b[49m\u001b[43mCommand\u001b[49m\u001b[38;5;241;43m.\u001b[39;49m\u001b[43mFIND_ELEMENTS\u001b[49m\u001b[43m,\u001b[49m\u001b[43m \u001b[49m\u001b[43m{\u001b[49m\n\u001b[0;32m    890\u001b[0m \u001b[43m    \u001b[49m\u001b[38;5;124;43m'\u001b[39;49m\u001b[38;5;124;43musing\u001b[39;49m\u001b[38;5;124;43m'\u001b[39;49m\u001b[43m:\u001b[49m\u001b[43m \u001b[49m\u001b[43mby\u001b[49m\u001b[43m,\u001b[49m\n\u001b[0;32m    891\u001b[0m \u001b[43m    \u001b[49m\u001b[38;5;124;43m'\u001b[39;49m\u001b[38;5;124;43mvalue\u001b[39;49m\u001b[38;5;124;43m'\u001b[39;49m\u001b[43m:\u001b[49m\u001b[43m \u001b[49m\u001b[43mvalue\u001b[49m\u001b[43m}\u001b[49m\u001b[43m)\u001b[49m[\u001b[38;5;124m'\u001b[39m\u001b[38;5;124mvalue\u001b[39m\u001b[38;5;124m'\u001b[39m] \u001b[38;5;129;01mor\u001b[39;00m []\n",
      "File \u001b[1;32m~\\Anaconda3\\lib\\site-packages\\selenium\\webdriver\\remote\\webdriver.py:429\u001b[0m, in \u001b[0;36mWebDriver.execute\u001b[1;34m(self, driver_command, params)\u001b[0m\n\u001b[0;32m    428\u001b[0m \u001b[38;5;28;01mif\u001b[39;00m response:\n\u001b[1;32m--> 429\u001b[0m     \u001b[38;5;28;43mself\u001b[39;49m\u001b[38;5;241;43m.\u001b[39;49m\u001b[43merror_handler\u001b[49m\u001b[38;5;241;43m.\u001b[39;49m\u001b[43mcheck_response\u001b[49m\u001b[43m(\u001b[49m\u001b[43mresponse\u001b[49m\u001b[43m)\u001b[49m\n\u001b[0;32m    430\u001b[0m     response[\u001b[38;5;124m'\u001b[39m\u001b[38;5;124mvalue\u001b[39m\u001b[38;5;124m'\u001b[39m] \u001b[38;5;241m=\u001b[39m \u001b[38;5;28mself\u001b[39m\u001b[38;5;241m.\u001b[39m_unwrap_value(\n\u001b[0;32m    431\u001b[0m         response\u001b[38;5;241m.\u001b[39mget(\u001b[38;5;124m'\u001b[39m\u001b[38;5;124mvalue\u001b[39m\u001b[38;5;124m'\u001b[39m, \u001b[38;5;28;01mNone\u001b[39;00m))\n",
      "File \u001b[1;32m~\\Anaconda3\\lib\\site-packages\\selenium\\webdriver\\remote\\errorhandler.py:243\u001b[0m, in \u001b[0;36mErrorHandler.check_response\u001b[1;34m(self, response)\u001b[0m\n\u001b[0;32m    242\u001b[0m     \u001b[38;5;28;01mraise\u001b[39;00m exception_class(message, screen, stacktrace, alert_text)  \u001b[38;5;66;03m# type: ignore[call-arg]  # mypy is not smart enough here\u001b[39;00m\n\u001b[1;32m--> 243\u001b[0m \u001b[38;5;28;01mraise\u001b[39;00m exception_class(message, screen, stacktrace)\n",
      "\u001b[1;31mNoSuchWindowException\u001b[0m: Message: no such window: target window already closed\nfrom unknown error: web view not found\n  (Session info: chrome=108.0.5359.99)\nStacktrace:\nBacktrace:\n\tOrdinal0 [0x0084ACD3+2075859]\n\tOrdinal0 [0x007DEE61+1633889]\n\tOrdinal0 [0x006DB7BD+571325]\n\tOrdinal0 [0x006C2E1A+470554]\n\tOrdinal0 [0x0072AA0B+895499]\n\tOrdinal0 [0x0073AC96+961686]\n\tOrdinal0 [0x00727136+880950]\n\tOrdinal0 [0x006FFEFD+720637]\n\tOrdinal0 [0x00700F3F+724799]\n\tGetHandleVerifier [0x00AFEED2+2769538]\n\tGetHandleVerifier [0x00AF0D95+2711877]\n\tGetHandleVerifier [0x008DA03A+521194]\n\tGetHandleVerifier [0x008D8DA0+516432]\n\tOrdinal0 [0x007E682C+1665068]\n\tOrdinal0 [0x007EB128+1683752]\n\tOrdinal0 [0x007EB215+1683989]\n\tOrdinal0 [0x007F6484+1729668]\n\tBaseThreadInitThunk [0x7679FEF9+25]\n\tRtlGetAppContainerNamedObjectPath [0x770A7BBE+286]\n\tRtlGetAppContainerNamedObjectPath [0x770A7B8E+238]\n",
      "\nDuring handling of the above exception, another exception occurred:\n",
      "\u001b[1;31mNoSuchWindowException\u001b[0m                     Traceback (most recent call last)",
      "Input \u001b[1;32mIn [79]\u001b[0m, in \u001b[0;36m<cell line: 3>\u001b[1;34m()\u001b[0m\n\u001b[0;32m     11\u001b[0m         res\u001b[38;5;241m.\u001b[39mappend(row)\n\u001b[0;32m     12\u001b[0m \u001b[38;5;28;01mexcept\u001b[39;00m \u001b[38;5;167;01mException\u001b[39;00m:\n\u001b[1;32m---> 13\u001b[0m     \u001b[43mdriver\u001b[49m\u001b[38;5;241;43m.\u001b[39;49m\u001b[43mrefresh\u001b[49m\u001b[43m(\u001b[49m\u001b[43m)\u001b[49m\n",
      "File \u001b[1;32m~\\Anaconda3\\lib\\site-packages\\selenium\\webdriver\\remote\\webdriver.py:674\u001b[0m, in \u001b[0;36mWebDriver.refresh\u001b[1;34m(self)\u001b[0m\n\u001b[0;32m    665\u001b[0m \u001b[38;5;28;01mdef\u001b[39;00m \u001b[38;5;21mrefresh\u001b[39m(\u001b[38;5;28mself\u001b[39m) \u001b[38;5;241m-\u001b[39m\u001b[38;5;241m>\u001b[39m \u001b[38;5;28;01mNone\u001b[39;00m:\n\u001b[0;32m    666\u001b[0m     \u001b[38;5;124;03m\"\"\"\u001b[39;00m\n\u001b[0;32m    667\u001b[0m \u001b[38;5;124;03m    Refreshes the current page.\u001b[39;00m\n\u001b[0;32m    668\u001b[0m \n\u001b[1;32m   (...)\u001b[0m\n\u001b[0;32m    672\u001b[0m \u001b[38;5;124;03m            driver.refresh()\u001b[39;00m\n\u001b[0;32m    673\u001b[0m \u001b[38;5;124;03m    \"\"\"\u001b[39;00m\n\u001b[1;32m--> 674\u001b[0m     \u001b[38;5;28;43mself\u001b[39;49m\u001b[38;5;241;43m.\u001b[39;49m\u001b[43mexecute\u001b[49m\u001b[43m(\u001b[49m\u001b[43mCommand\u001b[49m\u001b[38;5;241;43m.\u001b[39;49m\u001b[43mREFRESH\u001b[49m\u001b[43m)\u001b[49m\n",
      "File \u001b[1;32m~\\Anaconda3\\lib\\site-packages\\selenium\\webdriver\\remote\\webdriver.py:429\u001b[0m, in \u001b[0;36mWebDriver.execute\u001b[1;34m(self, driver_command, params)\u001b[0m\n\u001b[0;32m    427\u001b[0m response \u001b[38;5;241m=\u001b[39m \u001b[38;5;28mself\u001b[39m\u001b[38;5;241m.\u001b[39mcommand_executor\u001b[38;5;241m.\u001b[39mexecute(driver_command, params)\n\u001b[0;32m    428\u001b[0m \u001b[38;5;28;01mif\u001b[39;00m response:\n\u001b[1;32m--> 429\u001b[0m     \u001b[38;5;28;43mself\u001b[39;49m\u001b[38;5;241;43m.\u001b[39;49m\u001b[43merror_handler\u001b[49m\u001b[38;5;241;43m.\u001b[39;49m\u001b[43mcheck_response\u001b[49m\u001b[43m(\u001b[49m\u001b[43mresponse\u001b[49m\u001b[43m)\u001b[49m\n\u001b[0;32m    430\u001b[0m     response[\u001b[38;5;124m'\u001b[39m\u001b[38;5;124mvalue\u001b[39m\u001b[38;5;124m'\u001b[39m] \u001b[38;5;241m=\u001b[39m \u001b[38;5;28mself\u001b[39m\u001b[38;5;241m.\u001b[39m_unwrap_value(\n\u001b[0;32m    431\u001b[0m         response\u001b[38;5;241m.\u001b[39mget(\u001b[38;5;124m'\u001b[39m\u001b[38;5;124mvalue\u001b[39m\u001b[38;5;124m'\u001b[39m, \u001b[38;5;28;01mNone\u001b[39;00m))\n\u001b[0;32m    432\u001b[0m     \u001b[38;5;28;01mreturn\u001b[39;00m response\n",
      "File \u001b[1;32m~\\Anaconda3\\lib\\site-packages\\selenium\\webdriver\\remote\\errorhandler.py:243\u001b[0m, in \u001b[0;36mErrorHandler.check_response\u001b[1;34m(self, response)\u001b[0m\n\u001b[0;32m    241\u001b[0m         alert_text \u001b[38;5;241m=\u001b[39m value[\u001b[38;5;124m'\u001b[39m\u001b[38;5;124malert\u001b[39m\u001b[38;5;124m'\u001b[39m]\u001b[38;5;241m.\u001b[39mget(\u001b[38;5;124m'\u001b[39m\u001b[38;5;124mtext\u001b[39m\u001b[38;5;124m'\u001b[39m)\n\u001b[0;32m    242\u001b[0m     \u001b[38;5;28;01mraise\u001b[39;00m exception_class(message, screen, stacktrace, alert_text)  \u001b[38;5;66;03m# type: ignore[call-arg]  # mypy is not smart enough here\u001b[39;00m\n\u001b[1;32m--> 243\u001b[0m \u001b[38;5;28;01mraise\u001b[39;00m exception_class(message, screen, stacktrace)\n",
      "\u001b[1;31mNoSuchWindowException\u001b[0m: Message: no such window: target window already closed\nfrom unknown error: web view not found\n  (Session info: chrome=108.0.5359.99)\nStacktrace:\nBacktrace:\n\tOrdinal0 [0x0084ACD3+2075859]\n\tOrdinal0 [0x007DEE61+1633889]\n\tOrdinal0 [0x006DB7BD+571325]\n\tOrdinal0 [0x006C2E1A+470554]\n\tOrdinal0 [0x0072AA0B+895499]\n\tOrdinal0 [0x0073AC96+961686]\n\tOrdinal0 [0x00727136+880950]\n\tOrdinal0 [0x006FFEFD+720637]\n\tOrdinal0 [0x00700F3F+724799]\n\tGetHandleVerifier [0x00AFEED2+2769538]\n\tGetHandleVerifier [0x00AF0D95+2711877]\n\tGetHandleVerifier [0x008DA03A+521194]\n\tGetHandleVerifier [0x008D8DA0+516432]\n\tOrdinal0 [0x007E682C+1665068]\n\tOrdinal0 [0x007EB128+1683752]\n\tOrdinal0 [0x007EB215+1683989]\n\tOrdinal0 [0x007F6484+1729668]\n\tBaseThreadInitThunk [0x7679FEF9+25]\n\tRtlGetAppContainerNamedObjectPath [0x770A7BBE+286]\n\tRtlGetAppContainerNamedObjectPath [0x770A7B8E+238]\n"
     ]
    }
   ],
   "source": [
    "# links = [\"https://www.planespotters.net/airframe/boeing-747-300-n161jt-jt-power/3wnxn3\",\"https://www.planespotters.net/airframe/boeing-747-400-b-hoo-cathay-pacific/epnd7r\"]\n",
    "res = []\n",
    "for link in links:\n",
    "    time.sleep(4)\n",
    "    try:\n",
    "        driver.get(link)\n",
    "        WebDriverWait(driver, 10).until(EC.presence_of_all_elements_located((By.XPATH,\"//*[@id='content']/div[2]/div\")))\n",
    "        ff = WebDriverWait(driver, 10).until(EC.presence_of_element_located((By.XPATH,\"//*[@id='content']/div[1]/div/div[1]/div[1]/div[4]/div[2]\"))).text\n",
    "        row = [link,ff]\n",
    "        if row:\n",
    "            res.append(row)\n",
    "    except Exception:\n",
    "        driver.refresh()"
   ]
  },
  {
   "cell_type": "code",
   "execution_count": 61,
   "id": "d52249d7",
   "metadata": {},
   "outputs": [
    {
     "data": {
      "text/plain": [
       "[['https://www.planespotters.net/airframe/boeing-747-300-n161jt-jt-power/3wnxn3',\n",
       "  '7 Jun 1988'],\n",
       " ['https://www.planespotters.net/airframe/boeing-747-400-b-hoo-cathay-pacific/epnd7r',\n",
       "  '28 Aug 1988']]"
      ]
     },
     "execution_count": 61,
     "metadata": {},
     "output_type": "execute_result"
    }
   ],
   "source": [
    "pd.DataFrame(res,columns=['Link Detail','First Fliht']).to_csv('first_flight.csv')"
   ]
  },
  {
   "cell_type": "code",
   "execution_count": 4,
   "id": "1fdec5c6",
   "metadata": {},
   "outputs": [],
   "source": [
    "# Retry yang belum\n",
    "driver.get('https://www.planespotters.net/production-list/Boeing/787?p=21')\n",
    "WebDriverWait(driver, 10).until(EC.presence_of_all_elements_located((By.XPATH, \"//*[@id='content']/div/div[3]/div[1]/div\")))\n",
    "try:\n",
    "    page=BeautifulSoup(driver.page_source)\n",
    "    table = page.find('div',{'class':'datatable dt-outline dt-striped'})\n",
    "    table_rows = table.find_all('div',{'class':'dt-tr'})\n",
    "    for tr in table_rows:         \n",
    "#Cari link\n",
    "        lnk = tr.select_one(\"div:nth-of-type(2)\").select_one(\"a\")['href']\n",
    "        lnk = \"https://www.planespotters.net\"+lnk\n",
    "        row = [lnk]\n",
    "\n",
    "        td = tr.find_all('div',{'class':'dt-td'})\n",
    "        row.extend([tr.text.strip() for tr in td if tr.text.strip()])\n",
    "        if row:\n",
    "            res.append(row)\n",
    "    WebDriverWait(driver, 10).until(EC.element_to_be_clickable((By.XPATH,\"//*[@id='content']/div/div[1]/div/div[3]\"))).click()\n",
    "    WebDriverWait(driver, 3)\n",
    "except Exception:\n",
    "    driver.refresh()"
   ]
  },
  {
   "cell_type": "code",
   "execution_count": null,
   "id": "4ccfef1c",
   "metadata": {},
   "outputs": [],
   "source": []
  }
 ],
 "metadata": {
  "kernelspec": {
   "display_name": "Python 3 (ipykernel)",
   "language": "python",
   "name": "python3"
  },
  "language_info": {
   "codemirror_mode": {
    "name": "ipython",
    "version": 3
   },
   "file_extension": ".py",
   "mimetype": "text/x-python",
   "name": "python",
   "nbconvert_exporter": "python",
   "pygments_lexer": "ipython3",
   "version": "3.9.12"
  }
 },
 "nbformat": 4,
 "nbformat_minor": 5
}
