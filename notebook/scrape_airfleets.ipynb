{
 "cells": [
  {
   "cell_type": "code",
   "execution_count": 1,
   "id": "04d5bcb4",
   "metadata": {},
   "outputs": [],
   "source": [
    "from selenium import webdriver\n",
    "from selenium.webdriver.common.keys import Keys\n",
    "from bs4 import BeautifulSoup\n",
    "import pandas as pd\n",
    "\n",
    "import pandas as pd\n",
    "import numpy as np\n",
    "\n",
    "from selenium.webdriver.chrome.options import Options\n",
    "from selenium.webdriver.support.ui import Select\n",
    "from selenium.webdriver.common.by import By\n",
    "\n",
    "from selenium.webdriver.support.ui import WebDriverWait\n",
    "from selenium.webdriver.support import expected_conditions as EC\n",
    "\n",
    "import progressbar"
   ]
  },
  {
   "cell_type": "code",
   "execution_count": 54,
   "id": "53a277b7",
   "metadata": {},
   "outputs": [
    {
     "name": "stderr",
     "output_type": "stream",
     "text": [
      "C:\\Users\\581825\\AppData\\Local\\Temp\\ipykernel_8000\\1427643023.py:6: DeprecationWarning: executable_path has been deprecated, please pass in a Service object\n",
      "  driver = webdriver.Chrome(\"chromedriver.exe\")\n"
     ]
    },
    {
     "ename": "NoSuchElementException",
     "evalue": "Message: no such element: Unable to locate element: {\"method\":\"xpath\",\"selector\":\"/html/body/div[1]/div/div[1]/table/tbody/tr[3]/td[2]\"}\n  (Session info: chrome=106.0.5249.119)\nStacktrace:\nBacktrace:\n\tOrdinal0 [0x002CDF13+2219795]\n\tOrdinal0 [0x00262841+1779777]\n\tOrdinal0 [0x0017423D+803389]\n\tOrdinal0 [0x001A3025+995365]\n\tOrdinal0 [0x001A31EB+995819]\n\tOrdinal0 [0x001D0F52+1183570]\n\tOrdinal0 [0x001BE844+1108036]\n\tOrdinal0 [0x001CF192+1175954]\n\tOrdinal0 [0x001BE616+1107478]\n\tOrdinal0 [0x00197F89+950153]\n\tOrdinal0 [0x00198F56+954198]\n\tGetHandleVerifier [0x005C2CB2+3040210]\n\tGetHandleVerifier [0x005B2BB4+2974420]\n\tGetHandleVerifier [0x00366A0A+565546]\n\tGetHandleVerifier [0x00365680+560544]\n\tOrdinal0 [0x00269A5C+1808988]\n\tOrdinal0 [0x0026E3A8+1827752]\n\tOrdinal0 [0x0026E495+1827989]\n\tOrdinal0 [0x002780A4+1867940]\n\tBaseThreadInitThunk [0x74DAFA29+25]\n\tRtlGetAppContainerNamedObjectPath [0x76EC7BBE+286]\n\tRtlGetAppContainerNamedObjectPath [0x76EC7B8E+238]\n\t(No symbol) [0x00000000]\n",
     "output_type": "error",
     "traceback": [
      "\u001b[1;31m---------------------------------------------------------------------------\u001b[0m",
      "\u001b[1;31mNoSuchElementException\u001b[0m                    Traceback (most recent call last)",
      "Input \u001b[1;32mIn [54]\u001b[0m, in \u001b[0;36m<cell line: 12>\u001b[1;34m()\u001b[0m\n\u001b[0;32m     17\u001b[0m         WebDriverWait(driver, \u001b[38;5;241m1\u001b[39m)\n\u001b[0;32m     18\u001b[0m         page\u001b[38;5;241m=\u001b[39mBeautifulSoup(driver\u001b[38;5;241m.\u001b[39mpage_source)\n\u001b[0;32m     19\u001b[0m         res\u001b[38;5;241m.\u001b[39mappend([\n\u001b[0;32m     20\u001b[0m             fc,\n\u001b[0;32m     21\u001b[0m \u001b[38;5;66;03m#             driver.find_element(By.XPATH,\"/html/body/div[1]/div/div[1]/table/tbody/tr[1]/td[2]\").text,\u001b[39;00m\n\u001b[1;32m---> 22\u001b[0m             \u001b[43mdriver\u001b[49m\u001b[38;5;241;43m.\u001b[39;49m\u001b[43mfind_element\u001b[49m\u001b[43m(\u001b[49m\u001b[43mBy\u001b[49m\u001b[38;5;241;43m.\u001b[39;49m\u001b[43mXPATH\u001b[49m\u001b[43m,\u001b[49m\u001b[38;5;124;43m\"\u001b[39;49m\u001b[38;5;124;43m/html/body/div[1]/div/div[1]/table/tbody/tr[3]/td[2]\u001b[39;49m\u001b[38;5;124;43m\"\u001b[39;49m\u001b[43m)\u001b[49m\u001b[38;5;241m.\u001b[39mtext,\n\u001b[0;32m     23\u001b[0m             driver\u001b[38;5;241m.\u001b[39mfind_element(By\u001b[38;5;241m.\u001b[39mXPATH,\u001b[38;5;124m\"\u001b[39m\u001b[38;5;124m/html/body/div[1]/div/div[1]/table/tbody/tr[4]/td[2]/a\u001b[39m\u001b[38;5;124m\"\u001b[39m)\u001b[38;5;241m.\u001b[39mtext\n\u001b[0;32m     24\u001b[0m         ])\n\u001b[0;32m     25\u001b[0m     \u001b[38;5;28;01melse\u001b[39;00m:\n\u001b[0;32m     26\u001b[0m         res\u001b[38;5;241m.\u001b[39mappend([\n\u001b[0;32m     27\u001b[0m             fc,\n\u001b[0;32m     28\u001b[0m \u001b[38;5;66;03m#             'none',\u001b[39;00m\n\u001b[0;32m     29\u001b[0m             \u001b[38;5;124m'\u001b[39m\u001b[38;5;124mnone\u001b[39m\u001b[38;5;124m'\u001b[39m,\n\u001b[0;32m     30\u001b[0m             \u001b[38;5;124m'\u001b[39m\u001b[38;5;124mnone\u001b[39m\u001b[38;5;124m'\u001b[39m\n\u001b[0;32m     31\u001b[0m         ])\n",
      "File \u001b[1;32m~\\Anaconda3\\lib\\site-packages\\selenium\\webdriver\\remote\\webdriver.py:856\u001b[0m, in \u001b[0;36mWebDriver.find_element\u001b[1;34m(self, by, value)\u001b[0m\n\u001b[0;32m    853\u001b[0m     by \u001b[38;5;241m=\u001b[39m By\u001b[38;5;241m.\u001b[39mCSS_SELECTOR\n\u001b[0;32m    854\u001b[0m     value \u001b[38;5;241m=\u001b[39m \u001b[38;5;124m'\u001b[39m\u001b[38;5;124m[name=\u001b[39m\u001b[38;5;124m\"\u001b[39m\u001b[38;5;132;01m%s\u001b[39;00m\u001b[38;5;124m\"\u001b[39m\u001b[38;5;124m]\u001b[39m\u001b[38;5;124m'\u001b[39m \u001b[38;5;241m%\u001b[39m value\n\u001b[1;32m--> 856\u001b[0m \u001b[38;5;28;01mreturn\u001b[39;00m \u001b[38;5;28;43mself\u001b[39;49m\u001b[38;5;241;43m.\u001b[39;49m\u001b[43mexecute\u001b[49m\u001b[43m(\u001b[49m\u001b[43mCommand\u001b[49m\u001b[38;5;241;43m.\u001b[39;49m\u001b[43mFIND_ELEMENT\u001b[49m\u001b[43m,\u001b[49m\u001b[43m \u001b[49m\u001b[43m{\u001b[49m\n\u001b[0;32m    857\u001b[0m \u001b[43m    \u001b[49m\u001b[38;5;124;43m'\u001b[39;49m\u001b[38;5;124;43musing\u001b[39;49m\u001b[38;5;124;43m'\u001b[39;49m\u001b[43m:\u001b[49m\u001b[43m \u001b[49m\u001b[43mby\u001b[49m\u001b[43m,\u001b[49m\n\u001b[0;32m    858\u001b[0m \u001b[43m    \u001b[49m\u001b[38;5;124;43m'\u001b[39;49m\u001b[38;5;124;43mvalue\u001b[39;49m\u001b[38;5;124;43m'\u001b[39;49m\u001b[43m:\u001b[49m\u001b[43m \u001b[49m\u001b[43mvalue\u001b[49m\u001b[43m}\u001b[49m\u001b[43m)\u001b[49m[\u001b[38;5;124m'\u001b[39m\u001b[38;5;124mvalue\u001b[39m\u001b[38;5;124m'\u001b[39m]\n",
      "File \u001b[1;32m~\\Anaconda3\\lib\\site-packages\\selenium\\webdriver\\remote\\webdriver.py:429\u001b[0m, in \u001b[0;36mWebDriver.execute\u001b[1;34m(self, driver_command, params)\u001b[0m\n\u001b[0;32m    427\u001b[0m response \u001b[38;5;241m=\u001b[39m \u001b[38;5;28mself\u001b[39m\u001b[38;5;241m.\u001b[39mcommand_executor\u001b[38;5;241m.\u001b[39mexecute(driver_command, params)\n\u001b[0;32m    428\u001b[0m \u001b[38;5;28;01mif\u001b[39;00m response:\n\u001b[1;32m--> 429\u001b[0m     \u001b[38;5;28;43mself\u001b[39;49m\u001b[38;5;241;43m.\u001b[39;49m\u001b[43merror_handler\u001b[49m\u001b[38;5;241;43m.\u001b[39;49m\u001b[43mcheck_response\u001b[49m\u001b[43m(\u001b[49m\u001b[43mresponse\u001b[49m\u001b[43m)\u001b[49m\n\u001b[0;32m    430\u001b[0m     response[\u001b[38;5;124m'\u001b[39m\u001b[38;5;124mvalue\u001b[39m\u001b[38;5;124m'\u001b[39m] \u001b[38;5;241m=\u001b[39m \u001b[38;5;28mself\u001b[39m\u001b[38;5;241m.\u001b[39m_unwrap_value(\n\u001b[0;32m    431\u001b[0m         response\u001b[38;5;241m.\u001b[39mget(\u001b[38;5;124m'\u001b[39m\u001b[38;5;124mvalue\u001b[39m\u001b[38;5;124m'\u001b[39m, \u001b[38;5;28;01mNone\u001b[39;00m))\n\u001b[0;32m    432\u001b[0m     \u001b[38;5;28;01mreturn\u001b[39;00m response\n",
      "File \u001b[1;32m~\\Anaconda3\\lib\\site-packages\\selenium\\webdriver\\remote\\errorhandler.py:243\u001b[0m, in \u001b[0;36mErrorHandler.check_response\u001b[1;34m(self, response)\u001b[0m\n\u001b[0;32m    241\u001b[0m         alert_text \u001b[38;5;241m=\u001b[39m value[\u001b[38;5;124m'\u001b[39m\u001b[38;5;124malert\u001b[39m\u001b[38;5;124m'\u001b[39m]\u001b[38;5;241m.\u001b[39mget(\u001b[38;5;124m'\u001b[39m\u001b[38;5;124mtext\u001b[39m\u001b[38;5;124m'\u001b[39m)\n\u001b[0;32m    242\u001b[0m     \u001b[38;5;28;01mraise\u001b[39;00m exception_class(message, screen, stacktrace, alert_text)  \u001b[38;5;66;03m# type: ignore[call-arg]  # mypy is not smart enough here\u001b[39;00m\n\u001b[1;32m--> 243\u001b[0m \u001b[38;5;28;01mraise\u001b[39;00m exception_class(message, screen, stacktrace)\n",
      "\u001b[1;31mNoSuchElementException\u001b[0m: Message: no such element: Unable to locate element: {\"method\":\"xpath\",\"selector\":\"/html/body/div[1]/div/div[1]/table/tbody/tr[3]/td[2]\"}\n  (Session info: chrome=106.0.5249.119)\nStacktrace:\nBacktrace:\n\tOrdinal0 [0x002CDF13+2219795]\n\tOrdinal0 [0x00262841+1779777]\n\tOrdinal0 [0x0017423D+803389]\n\tOrdinal0 [0x001A3025+995365]\n\tOrdinal0 [0x001A31EB+995819]\n\tOrdinal0 [0x001D0F52+1183570]\n\tOrdinal0 [0x001BE844+1108036]\n\tOrdinal0 [0x001CF192+1175954]\n\tOrdinal0 [0x001BE616+1107478]\n\tOrdinal0 [0x00197F89+950153]\n\tOrdinal0 [0x00198F56+954198]\n\tGetHandleVerifier [0x005C2CB2+3040210]\n\tGetHandleVerifier [0x005B2BB4+2974420]\n\tGetHandleVerifier [0x00366A0A+565546]\n\tGetHandleVerifier [0x00365680+560544]\n\tOrdinal0 [0x00269A5C+1808988]\n\tOrdinal0 [0x0026E3A8+1827752]\n\tOrdinal0 [0x0026E495+1827989]\n\tOrdinal0 [0x002780A4+1867940]\n\tBaseThreadInitThunk [0x74DAFA29+25]\n\tRtlGetAppContainerNamedObjectPath [0x76EC7BBE+286]\n\tRtlGetAppContainerNamedObjectPath [0x76EC7B8E+238]\n\t(No symbol) [0x00000000]\n"
     ]
    }
   ],
   "source": [
    "chrome_options = webdriver.ChromeOptions()\n",
    "# chrome_options.add_argument('--headless')\n",
    "chrome_options.add_argument('--no-sandbox')\n",
    "chrome_options.add_argument('--disable-dev-shm-usage')\n",
    "chrome_options.add_argument(\"--disable-infobars\")\n",
    "driver = webdriver.Chrome(\"chromedriver.exe\")\n",
    "\n",
    "df = pd.read_csv(r\"I:\\My Drive\\dataset\\defect_prob\\funcloc_filled.csv\")\n",
    "funcloc = pd.Series(df['funcloc'])\n",
    "\n",
    "res = []\n",
    "for fc in funcloc:\n",
    "    if \"MSN\" not in fc:\n",
    "        driver.get(f'https://planelogger.com/Aircraft/Search?registration={fc}')\n",
    "        element = driver.find_element(By.XPATH,\"/html/body/div[1]/div/table/tbody/tr[2]/td[6]/a\")\n",
    "        driver.execute_script(\"arguments[0].click();\", element)\n",
    "        WebDriverWait(driver, 1)\n",
    "        page=BeautifulSoup(driver.page_source)\n",
    "        res.append([\n",
    "            fc,\n",
    "#             driver.find_element(By.XPATH,\"/html/body/div[1]/div/div[1]/table/tbody/tr[1]/td[2]\").text,\n",
    "            driver.find_element(By.XPATH,\"/html/body/div[1]/div/div[1]/table/tbody/tr[3]/td[2]\").text,\n",
    "            driver.find_element(By.XPATH,\"/html/body/div[1]/div/div[1]/table/tbody/tr[4]/td[2]/a\").text\n",
    "        ])\n",
    "    else:\n",
    "        res.append([\n",
    "            fc,\n",
    "#             'none',\n",
    "            'none',\n",
    "            'none'\n",
    "        ])\n",
    "\n",
    "        \n",
    "df = pd.DataFrame(res,columns=['funcloc','first flight','model'])"
   ]
  },
  {
   "cell_type": "code",
   "execution_count": 55,
   "id": "4dbdb9f2",
   "metadata": {},
   "outputs": [
    {
     "data": {
      "text/plain": [
       "[]"
      ]
     },
     "execution_count": 55,
     "metadata": {},
     "output_type": "execute_result"
    }
   ],
   "source": [
    "res"
   ]
  },
  {
   "cell_type": "code",
   "execution_count": null,
   "id": "5dfd26eb",
   "metadata": {},
   "outputs": [],
   "source": [
    "df_funcloc = pd.concat([df1,df2],axis=0, ignore_index=True)\n",
    "df_funcloc.to_excel()"
   ]
  },
  {
   "cell_type": "code",
   "execution_count": 30,
   "id": "8c107e57",
   "metadata": {},
   "outputs": [],
   "source": [
    "df1 = df.copy()"
   ]
  },
  {
   "cell_type": "code",
   "execution_count": 29,
   "id": "d1a99d05",
   "metadata": {},
   "outputs": [
    {
     "name": "stderr",
     "output_type": "stream",
     "text": [
      "C:\\Users\\581825\\AppData\\Local\\Temp\\ipykernel_9372\\1873568590.py:5: DeprecationWarning: executable_path has been deprecated, please pass in a Service object\n",
      "  driver = webdriver.Chrome(\"chromedriver.exe\")\n",
      "[                                                                        ]   0%\r"
     ]
    },
    {
     "ename": "StaleElementReferenceException",
     "evalue": "Message: stale element reference: element is not attached to the page document\n  (Session info: chrome=106.0.5249.119)\nStacktrace:\nBacktrace:\n\tOrdinal0 [0x00F2DF13+2219795]\n\tOrdinal0 [0x00EC2841+1779777]\n\tOrdinal0 [0x00DD423D+803389]\n\tOrdinal0 [0x00DD6D04+814340]\n\tOrdinal0 [0x00DD6BC2+814018]\n\tOrdinal0 [0x00DD6E50+814672]\n\tOrdinal0 [0x00E09767+1021799]\n\tOrdinal0 [0x00E074CB+1012939]\n\tOrdinal0 [0x00E054AB+1004715]\n\tOrdinal0 [0x00E04117+999703]\n\tOrdinal0 [0x00DF9B76+957302]\n\tOrdinal0 [0x00E1E7FC+1107964]\n\tOrdinal0 [0x00DF94B4+955572]\n\tOrdinal0 [0x00E1EA14+1108500]\n\tOrdinal0 [0x00E2F192+1175954]\n\tOrdinal0 [0x00E1E616+1107478]\n\tOrdinal0 [0x00DF7F89+950153]\n\tOrdinal0 [0x00DF8F56+954198]\n\tGetHandleVerifier [0x01222CB2+3040210]\n\tGetHandleVerifier [0x01212BB4+2974420]\n\tGetHandleVerifier [0x00FC6A0A+565546]\n\tGetHandleVerifier [0x00FC5680+560544]\n\tOrdinal0 [0x00EC9A5C+1808988]\n\tOrdinal0 [0x00ECE3A8+1827752]\n\tOrdinal0 [0x00ECE495+1827989]\n\tOrdinal0 [0x00ED80A4+1867940]\n\tBaseThreadInitThunk [0x75FFFA29+25]\n\tRtlGetAppContainerNamedObjectPath [0x77D57B5E+286]\n\tRtlGetAppContainerNamedObjectPath [0x77D57B2E+238]\n",
     "output_type": "error",
     "traceback": [
      "\u001b[1;31m---------------------------------------------------------------------------\u001b[0m",
      "\u001b[1;31mStaleElementReferenceException\u001b[0m            Traceback (most recent call last)",
      "Input \u001b[1;32mIn [29]\u001b[0m, in \u001b[0;36m<cell line: 17>\u001b[1;34m()\u001b[0m\n\u001b[0;32m     25\u001b[0m     \u001b[38;5;28;01mif\u001b[39;00m row:\n\u001b[0;32m     26\u001b[0m         res\u001b[38;5;241m.\u001b[39mappend(row)\n\u001b[1;32m---> 27\u001b[0m \u001b[43mdriver\u001b[49m\u001b[38;5;241;43m.\u001b[39;49m\u001b[43mfind_element\u001b[49m\u001b[43m(\u001b[49m\u001b[43mBy\u001b[49m\u001b[38;5;241;43m.\u001b[39;49m\u001b[43mID\u001b[49m\u001b[43m,\u001b[49m\u001b[43m \u001b[49m\u001b[38;5;124;43m\"\u001b[39;49m\u001b[38;5;124;43mtblControl_next\u001b[39;49m\u001b[38;5;124;43m\"\u001b[39;49m\u001b[43m)\u001b[49m\u001b[38;5;241;43m.\u001b[39;49m\u001b[43mclick\u001b[49m\u001b[43m(\u001b[49m\u001b[43m)\u001b[49m\n\u001b[0;32m     28\u001b[0m WebDriverWait(driver, \u001b[38;5;241m3\u001b[39m)\n\u001b[0;32m     29\u001b[0m bar\u001b[38;5;241m.\u001b[39mupdate(i\u001b[38;5;241m+\u001b[39m\u001b[38;5;241m1\u001b[39m)\n",
      "File \u001b[1;32m~\\Anaconda3\\lib\\site-packages\\selenium\\webdriver\\remote\\webelement.py:88\u001b[0m, in \u001b[0;36mWebElement.click\u001b[1;34m(self)\u001b[0m\n\u001b[0;32m     86\u001b[0m \u001b[38;5;28;01mdef\u001b[39;00m \u001b[38;5;21mclick\u001b[39m(\u001b[38;5;28mself\u001b[39m) \u001b[38;5;241m-\u001b[39m\u001b[38;5;241m>\u001b[39m \u001b[38;5;28;01mNone\u001b[39;00m:\n\u001b[0;32m     87\u001b[0m     \u001b[38;5;124;03m\"\"\"Clicks the element.\"\"\"\u001b[39;00m\n\u001b[1;32m---> 88\u001b[0m     \u001b[38;5;28;43mself\u001b[39;49m\u001b[38;5;241;43m.\u001b[39;49m\u001b[43m_execute\u001b[49m\u001b[43m(\u001b[49m\u001b[43mCommand\u001b[49m\u001b[38;5;241;43m.\u001b[39;49m\u001b[43mCLICK_ELEMENT\u001b[49m\u001b[43m)\u001b[49m\n",
      "File \u001b[1;32m~\\Anaconda3\\lib\\site-packages\\selenium\\webdriver\\remote\\webelement.py:396\u001b[0m, in \u001b[0;36mWebElement._execute\u001b[1;34m(self, command, params)\u001b[0m\n\u001b[0;32m    394\u001b[0m     params \u001b[38;5;241m=\u001b[39m {}\n\u001b[0;32m    395\u001b[0m params[\u001b[38;5;124m'\u001b[39m\u001b[38;5;124mid\u001b[39m\u001b[38;5;124m'\u001b[39m] \u001b[38;5;241m=\u001b[39m \u001b[38;5;28mself\u001b[39m\u001b[38;5;241m.\u001b[39m_id\n\u001b[1;32m--> 396\u001b[0m \u001b[38;5;28;01mreturn\u001b[39;00m \u001b[38;5;28;43mself\u001b[39;49m\u001b[38;5;241;43m.\u001b[39;49m\u001b[43m_parent\u001b[49m\u001b[38;5;241;43m.\u001b[39;49m\u001b[43mexecute\u001b[49m\u001b[43m(\u001b[49m\u001b[43mcommand\u001b[49m\u001b[43m,\u001b[49m\u001b[43m \u001b[49m\u001b[43mparams\u001b[49m\u001b[43m)\u001b[49m\n",
      "File \u001b[1;32m~\\Anaconda3\\lib\\site-packages\\selenium\\webdriver\\remote\\webdriver.py:429\u001b[0m, in \u001b[0;36mWebDriver.execute\u001b[1;34m(self, driver_command, params)\u001b[0m\n\u001b[0;32m    427\u001b[0m response \u001b[38;5;241m=\u001b[39m \u001b[38;5;28mself\u001b[39m\u001b[38;5;241m.\u001b[39mcommand_executor\u001b[38;5;241m.\u001b[39mexecute(driver_command, params)\n\u001b[0;32m    428\u001b[0m \u001b[38;5;28;01mif\u001b[39;00m response:\n\u001b[1;32m--> 429\u001b[0m     \u001b[38;5;28;43mself\u001b[39;49m\u001b[38;5;241;43m.\u001b[39;49m\u001b[43merror_handler\u001b[49m\u001b[38;5;241;43m.\u001b[39;49m\u001b[43mcheck_response\u001b[49m\u001b[43m(\u001b[49m\u001b[43mresponse\u001b[49m\u001b[43m)\u001b[49m\n\u001b[0;32m    430\u001b[0m     response[\u001b[38;5;124m'\u001b[39m\u001b[38;5;124mvalue\u001b[39m\u001b[38;5;124m'\u001b[39m] \u001b[38;5;241m=\u001b[39m \u001b[38;5;28mself\u001b[39m\u001b[38;5;241m.\u001b[39m_unwrap_value(\n\u001b[0;32m    431\u001b[0m         response\u001b[38;5;241m.\u001b[39mget(\u001b[38;5;124m'\u001b[39m\u001b[38;5;124mvalue\u001b[39m\u001b[38;5;124m'\u001b[39m, \u001b[38;5;28;01mNone\u001b[39;00m))\n\u001b[0;32m    432\u001b[0m     \u001b[38;5;28;01mreturn\u001b[39;00m response\n",
      "File \u001b[1;32m~\\Anaconda3\\lib\\site-packages\\selenium\\webdriver\\remote\\errorhandler.py:243\u001b[0m, in \u001b[0;36mErrorHandler.check_response\u001b[1;34m(self, response)\u001b[0m\n\u001b[0;32m    241\u001b[0m         alert_text \u001b[38;5;241m=\u001b[39m value[\u001b[38;5;124m'\u001b[39m\u001b[38;5;124malert\u001b[39m\u001b[38;5;124m'\u001b[39m]\u001b[38;5;241m.\u001b[39mget(\u001b[38;5;124m'\u001b[39m\u001b[38;5;124mtext\u001b[39m\u001b[38;5;124m'\u001b[39m)\n\u001b[0;32m    242\u001b[0m     \u001b[38;5;28;01mraise\u001b[39;00m exception_class(message, screen, stacktrace, alert_text)  \u001b[38;5;66;03m# type: ignore[call-arg]  # mypy is not smart enough here\u001b[39;00m\n\u001b[1;32m--> 243\u001b[0m \u001b[38;5;28;01mraise\u001b[39;00m exception_class(message, screen, stacktrace)\n",
      "\u001b[1;31mStaleElementReferenceException\u001b[0m: Message: stale element reference: element is not attached to the page document\n  (Session info: chrome=106.0.5249.119)\nStacktrace:\nBacktrace:\n\tOrdinal0 [0x00F2DF13+2219795]\n\tOrdinal0 [0x00EC2841+1779777]\n\tOrdinal0 [0x00DD423D+803389]\n\tOrdinal0 [0x00DD6D04+814340]\n\tOrdinal0 [0x00DD6BC2+814018]\n\tOrdinal0 [0x00DD6E50+814672]\n\tOrdinal0 [0x00E09767+1021799]\n\tOrdinal0 [0x00E074CB+1012939]\n\tOrdinal0 [0x00E054AB+1004715]\n\tOrdinal0 [0x00E04117+999703]\n\tOrdinal0 [0x00DF9B76+957302]\n\tOrdinal0 [0x00E1E7FC+1107964]\n\tOrdinal0 [0x00DF94B4+955572]\n\tOrdinal0 [0x00E1EA14+1108500]\n\tOrdinal0 [0x00E2F192+1175954]\n\tOrdinal0 [0x00E1E616+1107478]\n\tOrdinal0 [0x00DF7F89+950153]\n\tOrdinal0 [0x00DF8F56+954198]\n\tGetHandleVerifier [0x01222CB2+3040210]\n\tGetHandleVerifier [0x01212BB4+2974420]\n\tGetHandleVerifier [0x00FC6A0A+565546]\n\tGetHandleVerifier [0x00FC5680+560544]\n\tOrdinal0 [0x00EC9A5C+1808988]\n\tOrdinal0 [0x00ECE3A8+1827752]\n\tOrdinal0 [0x00ECE495+1827989]\n\tOrdinal0 [0x00ED80A4+1867940]\n\tBaseThreadInitThunk [0x75FFFA29+25]\n\tRtlGetAppContainerNamedObjectPath [0x77D57B5E+286]\n\tRtlGetAppContainerNamedObjectPath [0x77D57B2E+238]\n"
     ]
    }
   ],
   "source": [
    "chrome_options = webdriver.ChromeOptions()\n",
    "chrome_options.add_argument('--headless')\n",
    "chrome_options.add_argument('--no-sandbox')\n",
    "chrome_options.add_argument('--disable-dev-shm-usage')\n",
    "driver = webdriver.Chrome(\"chromedriver.exe\")\n",
    "\n",
    "driver.get(\"https://www.airfleets.net/listing/b747-1.htm\")\n",
    "WebDriverWait(driver, 10).until(EC.presence_of_element_located((By.ID,\"tblControl_length\")))\n",
    "viewperpage = Select(driver.find_element(By.NAME,\"tblControl_length\"))\n",
    "viewperpage.select_by_value(\"100\")\n",
    "WebDriverWait(driver, 10).until(EC.presence_of_element_located((By.ID, \"tblControl_next\")))\n",
    "\n",
    "bar = progressbar.ProgressBar(maxval=2000,widgets=[progressbar.Bar('=', '[', ']'), ' ', progressbar.Percentage()])\n",
    "bar.start()\n",
    "\n",
    "res = []\n",
    "for i in range(2000):\n",
    "    next_text = str(i+2)\n",
    "    page=BeautifulSoup(driver.page_source)\n",
    "    table = page.find('table',{'id':'tblControl'})\n",
    "    table_rows = table.find_all('tr')\n",
    "    for tr in table_rows:\n",
    "        td = tr.find_all('td')\n",
    "        row = [tr.text.strip() for tr in td if tr.text.strip()]\n",
    "        if row:\n",
    "            res.append(row)\n",
    "    driver.find_element(By.ID, \"tblControl_next\").click()\n",
    "    WebDriverWait(driver, 3)\n",
    "    bar.update(i+1)\n",
    "    \n",
    "bar.finish\n",
    "df = pd.DataFrame(res, columns=[\"No\",\"Channel\", \"Watch Time (Hours)\", \"Stream Time (Hours)\", \"Peak Viewers\",\"Average Viewers\",\"Followers\",\"Followers Gained\",\"Partnered\",\"Mature\",\"Language\"])"
   ]
  },
  {
   "cell_type": "code",
   "execution_count": 12,
   "id": "2f34ebe8",
   "metadata": {},
   "outputs": [
    {
     "data": {
      "text/html": [
       "<div>\n",
       "<style scoped>\n",
       "    .dataframe tbody tr th:only-of-type {\n",
       "        vertical-align: middle;\n",
       "    }\n",
       "\n",
       "    .dataframe tbody tr th {\n",
       "        vertical-align: top;\n",
       "    }\n",
       "\n",
       "    .dataframe thead th {\n",
       "        text-align: right;\n",
       "    }\n",
       "</style>\n",
       "<table border=\"1\" class=\"dataframe\">\n",
       "  <thead>\n",
       "    <tr style=\"text-align: right;\">\n",
       "      <th></th>\n",
       "      <th>No</th>\n",
       "      <th>Channel</th>\n",
       "      <th>Watch Time (Hours)</th>\n",
       "      <th>Stream Time (Hours)</th>\n",
       "      <th>Peak Viewers</th>\n",
       "      <th>Average Viewers</th>\n",
       "      <th>Followers</th>\n",
       "      <th>Followers Gained</th>\n",
       "      <th>Partnered</th>\n",
       "      <th>Mature</th>\n",
       "      <th>Language</th>\n",
       "    </tr>\n",
       "  </thead>\n",
       "  <tbody>\n",
       "    <tr>\n",
       "      <th>0</th>\n",
       "      <td>1</td>\n",
       "      <td>Ninja</td>\n",
       "      <td>14,899,389(-15.1%)</td>\n",
       "      <td>1,108(-28.8%)</td>\n",
       "      <td>56,267(-34.1%)</td>\n",
       "      <td>13,447(19.2%)</td>\n",
       "      <td>18,391,317</td>\n",
       "      <td>1,434,671</td>\n",
       "      <td>English</td>\n",
       "      <td>No</td>\n",
       "      <td>None</td>\n",
       "    </tr>\n",
       "    <tr>\n",
       "      <th>1</th>\n",
       "      <td>2</td>\n",
       "      <td>auronplay</td>\n",
       "      <td>108,953,644(-4.8%)</td>\n",
       "      <td>1,137(7.9%)</td>\n",
       "      <td>457,641(44.2%)</td>\n",
       "      <td>95,783(-11.8%)</td>\n",
       "      <td>14,028,837</td>\n",
       "      <td>3,575,997</td>\n",
       "      <td>Partnered</td>\n",
       "      <td>No</td>\n",
       "      <td>Spanish</td>\n",
       "    </tr>\n",
       "    <tr>\n",
       "      <th>2</th>\n",
       "      <td>3</td>\n",
       "      <td>Rubius</td>\n",
       "      <td>61,906,230(-3.1%)</td>\n",
       "      <td>1,605(37.8%)</td>\n",
       "      <td>372,079(8.0%)</td>\n",
       "      <td>38,564(-29.7%)</td>\n",
       "      <td>12,881,232</td>\n",
       "      <td>2,686,493</td>\n",
       "      <td>Partnered</td>\n",
       "      <td>No</td>\n",
       "      <td>Spanish</td>\n",
       "    </tr>\n",
       "    <tr>\n",
       "      <th>3</th>\n",
       "      <td>4</td>\n",
       "      <td>ibai</td>\n",
       "      <td>113,751,394(5.6%)</td>\n",
       "      <td>1,407(-2.2%)</td>\n",
       "      <td>3,351,678(117.8%)</td>\n",
       "      <td>80,832(7.9%)</td>\n",
       "      <td>11,784,460</td>\n",
       "      <td>3,571,580</td>\n",
       "      <td>Partnered</td>\n",
       "      <td>No</td>\n",
       "      <td>Spanish</td>\n",
       "    </tr>\n",
       "    <tr>\n",
       "      <th>4</th>\n",
       "      <td>5</td>\n",
       "      <td>xQc</td>\n",
       "      <td>244,272,897(-6.9%)</td>\n",
       "      <td>3,425(-5.6%)</td>\n",
       "      <td>312,158(77.9%)</td>\n",
       "      <td>71,304(-1.4%)</td>\n",
       "      <td>11,279,209</td>\n",
       "      <td>1,928,563</td>\n",
       "      <td>Partnered</td>\n",
       "      <td>No</td>\n",
       "      <td>English</td>\n",
       "    </tr>\n",
       "  </tbody>\n",
       "</table>\n",
       "</div>"
      ],
      "text/plain": [
       "  No    Channel  Watch Time (Hours) Stream Time (Hours)       Peak Viewers  \\\n",
       "0  1      Ninja  14,899,389(-15.1%)       1,108(-28.8%)     56,267(-34.1%)   \n",
       "1  2  auronplay  108,953,644(-4.8%)         1,137(7.9%)     457,641(44.2%)   \n",
       "2  3     Rubius   61,906,230(-3.1%)        1,605(37.8%)      372,079(8.0%)   \n",
       "3  4       ibai   113,751,394(5.6%)        1,407(-2.2%)  3,351,678(117.8%)   \n",
       "4  5        xQc  244,272,897(-6.9%)        3,425(-5.6%)     312,158(77.9%)   \n",
       "\n",
       "  Average Viewers   Followers Followers Gained  Partnered Mature Language  \n",
       "0   13,447(19.2%)  18,391,317        1,434,671    English     No     None  \n",
       "1  95,783(-11.8%)  14,028,837        3,575,997  Partnered     No  Spanish  \n",
       "2  38,564(-29.7%)  12,881,232        2,686,493  Partnered     No  Spanish  \n",
       "3    80,832(7.9%)  11,784,460        3,571,580  Partnered     No  Spanish  \n",
       "4   71,304(-1.4%)  11,279,209        1,928,563  Partnered     No  English  "
      ]
     },
     "execution_count": 12,
     "metadata": {},
     "output_type": "execute_result"
    }
   ],
   "source": [
    "df.loc[df['Mature']!='Mature','Language'] = df['Mature']\n",
    "df.loc[df['Mature']!='Mature','Mature'] = \"No\"\n",
    "df.head()\n",
    "# df.to_csv('twitch channel Scrape.csv')"
   ]
  },
  {
   "cell_type": "code",
   "execution_count": 16,
   "id": "1c27d0d5",
   "metadata": {},
   "outputs": [
    {
     "data": {
      "text/plain": [
       "Scarra         97\n",
       "natalan        97\n",
       "ScreaM         97\n",
       "ZeratoR        97\n",
       "Kamet0         97\n",
       "               ..\n",
       "ludwig          3\n",
       "x2Twins         3\n",
       "Sapnap          3\n",
       "QuackityToo     3\n",
       "Ninja           3\n",
       "Name: Channel, Length: 200, dtype: int64"
      ]
     },
     "execution_count": 16,
     "metadata": {},
     "output_type": "execute_result"
    }
   ],
   "source": [
    "df['Channel'].value_counts()"
   ]
  },
  {
   "cell_type": "code",
   "execution_count": 51,
   "id": "dfaf5e4d",
   "metadata": {},
   "outputs": [
    {
     "ename": "AttributeError",
     "evalue": "'NoneType' object has no attribute 'text'",
     "output_type": "error",
     "traceback": [
      "\u001b[1;31m---------------------------------------------------------------------------\u001b[0m",
      "\u001b[1;31mAttributeError\u001b[0m                            Traceback (most recent call last)",
      "Input \u001b[1;32mIn [51]\u001b[0m, in \u001b[0;36m<cell line: 14>\u001b[1;34m()\u001b[0m\n\u001b[0;32m     46\u001b[0m name\u001b[38;5;241m.\u001b[39mappend(detail_page\u001b[38;5;241m.\u001b[39mfind(\u001b[38;5;124m'\u001b[39m\u001b[38;5;124mp\u001b[39m\u001b[38;5;124m'\u001b[39m,{\u001b[38;5;124m'\u001b[39m\u001b[38;5;124mid\u001b[39m\u001b[38;5;124m'\u001b[39m:\u001b[38;5;124m'\u001b[39m\u001b[38;5;124mname\u001b[39m\u001b[38;5;124m'\u001b[39m})\u001b[38;5;241m.\u001b[39mtext\u001b[38;5;241m.\u001b[39mstrip())\n\u001b[0;32m     47\u001b[0m license_type\u001b[38;5;241m.\u001b[39mappend(detail_page\u001b[38;5;241m.\u001b[39mfind(\u001b[38;5;124m'\u001b[39m\u001b[38;5;124mp\u001b[39m\u001b[38;5;124m'\u001b[39m,{\u001b[38;5;124m'\u001b[39m\u001b[38;5;124mid\u001b[39m\u001b[38;5;124m'\u001b[39m:\u001b[38;5;124m'\u001b[39m\u001b[38;5;124mlicType\u001b[39m\u001b[38;5;124m'\u001b[39m})\u001b[38;5;241m.\u001b[39mtext\u001b[38;5;241m.\u001b[39mstrip())\n\u001b[1;32m---> 48\u001b[0m license_status\u001b[38;5;241m.\u001b[39mappend(\u001b[43mdetail_page\u001b[49m\u001b[38;5;241;43m.\u001b[39;49m\u001b[43mfind\u001b[49m\u001b[43m(\u001b[49m\u001b[38;5;124;43m'\u001b[39;49m\u001b[38;5;124;43mspan\u001b[39;49m\u001b[38;5;124;43m'\u001b[39;49m\u001b[43m,\u001b[49m\u001b[43m{\u001b[49m\u001b[38;5;124;43m'\u001b[39;49m\u001b[38;5;124;43mclass\u001b[39;49m\u001b[38;5;124;43m'\u001b[39;49m\u001b[43m:\u001b[49m\u001b[38;5;124;43m'\u001b[39;49m\u001b[38;5;124;43mstatus_10\u001b[39;49m\u001b[38;5;124;43m'\u001b[39;49m\u001b[43m}\u001b[49m\u001b[43m)\u001b[49m\u001b[38;5;241;43m.\u001b[39;49m\u001b[43mtext\u001b[49m\u001b[38;5;241m.\u001b[39mstrip())\n\u001b[0;32m     49\u001b[0m phone\u001b[38;5;241m.\u001b[39mappend(detail_page\u001b[38;5;241m.\u001b[39mfind(\u001b[38;5;124m'\u001b[39m\u001b[38;5;124mp\u001b[39m\u001b[38;5;124m'\u001b[39m,{\u001b[38;5;124m'\u001b[39m\u001b[38;5;124mid\u001b[39m\u001b[38;5;124m'\u001b[39m:\u001b[38;5;124m'\u001b[39m\u001b[38;5;124mlicRegClass\u001b[39m\u001b[38;5;124m'\u001b[39m})\u001b[38;5;241m.\u001b[39mtext\u001b[38;5;241m.\u001b[39mstrip())\n\u001b[0;32m     50\u001b[0m address1\u001b[38;5;241m.\u001b[39mappend(detail_page\u001b[38;5;241m.\u001b[39mfind(\u001b[38;5;124m'\u001b[39m\u001b[38;5;124mp\u001b[39m\u001b[38;5;124m'\u001b[39m,{\u001b[38;5;124m'\u001b[39m\u001b[38;5;124mid\u001b[39m\u001b[38;5;124m'\u001b[39m:\u001b[38;5;124m'\u001b[39m\u001b[38;5;124maddress\u001b[39m\u001b[38;5;124m'\u001b[39m})\u001b[38;5;241m.\u001b[39mtext\u001b[38;5;241m.\u001b[39mstrip())\n",
      "\u001b[1;31mAttributeError\u001b[0m: 'NoneType' object has no attribute 'text'"
     ]
    }
   ],
   "source": [
    "name = []\n",
    "license_type = []\n",
    "license_status = []\n",
    "phone = []\n",
    "address1 = []\n",
    "address2 = []\n",
    "city = []\n",
    "state = [] \n",
    "zipcode = []\n",
    "country = []\n",
    "pers_name1 = []\n",
    "pers_name2 = []\n",
    "\n",
    "for city in cities:\n",
    "    driver.get(\"https://search.dca.ca.gov/advanced\")\n",
    "    element = WebDriverWait(driver, 10).until(\n",
    "        EC.presence_of_element_located((By.ID, \"boardCode\"))\n",
    "    )\n",
    "\n",
    "    boardCode = Select(driver.find_element(By.ID,\"boardCode\"))\n",
    "    boardCode.select_by_value(\"21\")\n",
    "\n",
    "    licenseType = Select(driver.find_element(By.ID, \"licenseType\"))\n",
    "    licenseType.select_by_value(\"52,53,54\")\n",
    "\n",
    "    cities_sel = Select(driver.find_element(By.ID, \"cities\"))\n",
    "    cities_sel.select_by_value(city)\n",
    "\n",
    "    driver.find_element(By.ID, \"srchSubmitHome\").click()\n",
    "    \n",
    "    element = WebDriverWait(driver, 10).until(\n",
    "        EC.presence_of_element_located((By.ID, \"results\"))\n",
    "    )\n",
    "\n",
    "    result_page=BeautifulSoup(driver.page_source)\n",
    "    result_page = result_page.find_all('a',string='More Detail')\n",
    "    for link in result_page:\n",
    "        alink = 'https://search.dca.ca.gov'+link['href']\n",
    "        driver.get(alink)\n",
    "\n",
    "        element = WebDriverWait(driver, 10).until(\n",
    "        EC.presence_of_element_located((By.ID, \"licDetail\"))\n",
    "        )\n",
    "        detail_page=BeautifulSoup(driver.page_source)\n",
    "\n",
    "        name.append(detail_page.find('p',{'id':'name'}).text.strip())\n",
    "        license_type.append(detail_page.find('p',{'id':'licType'}).text.strip())\n",
    "        license_status.append(detail_page.find('span',{'class':'status_10'}).text.strip())\n",
    "        phone.append(detail_page.find('p',{'id':'licRegClass'}).text.strip())\n",
    "        address1.append(detail_page.find('p',{'id':'address'}).text.strip())\n",
    "#                 address2.append(detail_page.find('p',{'id':'name'}).text.strip())\n",
    "#                 city.append(detail_page.find('p',{'id':'name'}).text.strip())\n",
    "#                 state.append(detail_page.find('p',{'id':'name'}).text.strip())\n",
    "#                 zipcode.append(detail_page.find('p',{'id':'name'}).text.strip())\n",
    "\n",
    "                \n",
    "\n",
    "# name = soup.find('div',{\"bind\": lambda value: value and value.startswith(\"317164bb\")})\n",
    "# nama = soup.find_all(\"div\", id=lambda value: value and value.startswith(\"span3\"))"
   ]
  },
  {
   "cell_type": "code",
   "execution_count": null,
   "id": "aab05518",
   "metadata": {},
   "outputs": [],
   "source": [
    "df = pd.DataFrame({'Name':name,'License Type': license_type,'License Status': license_status,'Phone':phone,'Address':address1})"
   ]
  },
  {
   "cell_type": "code",
   "execution_count": null,
   "id": "ac4ce53f",
   "metadata": {},
   "outputs": [],
   "source": []
  }
 ],
 "metadata": {
  "kernelspec": {
   "display_name": "Python 3 (ipykernel)",
   "language": "python",
   "name": "python3"
  },
  "language_info": {
   "codemirror_mode": {
    "name": "ipython",
    "version": 3
   },
   "file_extension": ".py",
   "mimetype": "text/x-python",
   "name": "python",
   "nbconvert_exporter": "python",
   "pygments_lexer": "ipython3",
   "version": "3.9.12"
  }
 },
 "nbformat": 4,
 "nbformat_minor": 5
}
