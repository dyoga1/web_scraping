{
 "cells": [
  {
   "cell_type": "markdown",
   "id": "9d7a8193",
   "metadata": {},
   "source": [
    "### Import library dan Login"
   ]
  },
  {
   "cell_type": "code",
   "execution_count": 1,
   "id": "04d5bcb4",
   "metadata": {},
   "outputs": [],
   "source": [
    "from selenium import webdriver\n",
    "from selenium.webdriver.common.keys import Keys\n",
    "from selenium.webdriver.common.action_chains import ActionChains\n",
    "from bs4 import BeautifulSoup\n",
    "import pandas as pd\n",
    "import time\n",
    "\n",
    "from selenium.webdriver.chrome.options import Options\n",
    "from selenium.webdriver.support.ui import Select\n",
    "from selenium.webdriver.common.by import By\n",
    "\n",
    "from selenium.webdriver.support.ui import WebDriverWait\n",
    "from selenium.webdriver.support import expected_conditions as EC"
   ]
  },
  {
   "cell_type": "code",
   "execution_count": null,
   "id": "d1a99d05",
   "metadata": {
    "scrolled": true
   },
   "outputs": [],
   "source": [
    "username = 'n2872092'\n",
    "password = 't@hubul4t'\n",
    "waktu_tunggu = 4\n",
    "\n",
    "chrome_options = Options()\n",
    "chrome_options.add_argument(\"--headless\")\n",
    "# driver = webdriver.Chrome(\"chromedriver.exe\",options=chrome_options)\n",
    "driver = webdriver.Chrome(\"chromedriver.exe\")\n",
    "\n",
    "# Login phase\n",
    "driver.get(\"https://myboeingfleet.boeing.com/ReverseProxy/Authentication.html\")\n",
    "WebDriverWait(driver, 20).until(EC.element_to_be_clickable((By.ID, \"AviationID\")))\n",
    "driver.find_element(By.ID, \"AviationID\").click()\n",
    "WebDriverWait(driver, 20).until(EC.presence_of_element_located((By.ID, \"mat-input-0\"))).send_keys(username)\n",
    "driver.find_element(By.XPATH, \"/html/body/app-root/div/div/div/app-multi-factor-auth/mat-sidenav-container/mat-sidenav-content/div/emc-branded-card/mat-card/div[2]/div/div/div/app-user-reference/form/div[1]/div[2]/button\").click()\n",
    "WebDriverWait(driver, 20).until(EC.presence_of_element_located((By.ID, \"mat-input-1\"))).send_keys(password)\n",
    "driver.find_element(By.XPATH, \"/html/body/app-root/div/div/div/app-multi-factor-auth/mat-sidenav-container/mat-sidenav-content/div/emc-branded-card/mat-card/div[2]/div/div/div/app-password/form/div/div[2]/button\").click()\n",
    "WebDriverWait(driver, 20).until(EC.presence_of_element_located((By.XPATH, \"//div[text()='Login with Authy App']\"))).click()\n",
    "driver.find_element(By.XPATH, \"/html/body/app-root/div/div/div/app-multi-factor-auth/mat-sidenav-container/mat-sidenav-content/div/emc-branded-card/mat-card/div[2]/div/div/div/app-mfa-selector/div/form/div/button\").click()\n"
   ]
  },
  {
   "cell_type": "markdown",
   "id": "39e7dabf",
   "metadata": {},
   "source": [
    "### Scrape and download"
   ]
  },
  {
   "cell_type": "code",
   "execution_count": 3,
   "id": "48adc418",
   "metadata": {},
   "outputs": [
    {
     "name": "stdout",
     "output_type": "stream",
     "text": [
      "<class 'Exception'>\n",
      "<class 'Exception'>\n"
     ]
    },
    {
     "ename": "KeyboardInterrupt",
     "evalue": "",
     "output_type": "error",
     "traceback": [
      "\u001b[1;31m---------------------------------------------------------------------------\u001b[0m",
      "\u001b[1;31mKeyboardInterrupt\u001b[0m                         Traceback (most recent call last)",
      "Cell \u001b[1;32mIn[3], line 20\u001b[0m\n\u001b[0;32m     18\u001b[0m WebDriverWait(driver,\u001b[38;5;241m20\u001b[39m)\u001b[38;5;241m.\u001b[39muntil(EC\u001b[38;5;241m.\u001b[39mpresence_of_element_located((By\u001b[38;5;241m.\u001b[39mXPATH,\u001b[38;5;124m\"\u001b[39m\u001b[38;5;124m//*[@id=\u001b[39m\u001b[38;5;124m'\u001b[39m\u001b[38;5;124mDocument_Number_facet\u001b[39m\u001b[38;5;124m'\u001b[39m\u001b[38;5;124m]/div/div[1]/div/div/div/div[2]/div/span\u001b[39m\u001b[38;5;124m\"\u001b[39m)))\u001b[38;5;241m.\u001b[39mclick()\n\u001b[0;32m     19\u001b[0m \u001b[38;5;28;01mtry\u001b[39;00m:\n\u001b[1;32m---> 20\u001b[0m     dnld \u001b[38;5;241m=\u001b[39m \u001b[43mWebDriverWait\u001b[49m\u001b[43m(\u001b[49m\u001b[43mdriver\u001b[49m\u001b[43m,\u001b[49m\u001b[38;5;241;43m20\u001b[39;49m\u001b[43m)\u001b[49m\u001b[38;5;241;43m.\u001b[39;49m\u001b[43muntil\u001b[49m\u001b[43m(\u001b[49m\u001b[43mEC\u001b[49m\u001b[38;5;241;43m.\u001b[39;49m\u001b[43melement_to_be_clickable\u001b[49m\u001b[43m(\u001b[49m\u001b[43m(\u001b[49m\u001b[43mBy\u001b[49m\u001b[38;5;241;43m.\u001b[39;49m\u001b[43mXPATH\u001b[49m\u001b[43m,\u001b[49m\u001b[38;5;124;43mf\u001b[39;49m\u001b[38;5;124;43m\"\u001b[39;49m\u001b[38;5;124;43m//i[contains(@id, \u001b[39;49m\u001b[38;5;124;43m'\u001b[39;49m\u001b[38;5;132;43;01m{\u001b[39;49;00m\u001b[43msb\u001b[49m\u001b[38;5;132;43;01m}\u001b[39;49;00m\u001b[38;5;124;43m'\u001b[39;49m\u001b[38;5;124;43m)]\u001b[39;49m\u001b[38;5;124;43m\"\u001b[39;49m\u001b[43m)\u001b[49m\u001b[43m)\u001b[49m\u001b[43m)\u001b[49m\n\u001b[0;32m     21\u001b[0m     dnld\u001b[38;5;241m.\u001b[39mclick()\n\u001b[0;32m     22\u001b[0m \u001b[38;5;28;01mexcept\u001b[39;00m \u001b[38;5;167;01mException\u001b[39;00m: \n",
      "File \u001b[1;32m~\\Anaconda3\\lib\\site-packages\\selenium\\webdriver\\support\\wait.py:87\u001b[0m, in \u001b[0;36mWebDriverWait.until\u001b[1;34m(self, method, message)\u001b[0m\n\u001b[0;32m     85\u001b[0m     screen \u001b[38;5;241m=\u001b[39m \u001b[38;5;28mgetattr\u001b[39m(exc, \u001b[38;5;124m'\u001b[39m\u001b[38;5;124mscreen\u001b[39m\u001b[38;5;124m'\u001b[39m, \u001b[38;5;28;01mNone\u001b[39;00m)\n\u001b[0;32m     86\u001b[0m     stacktrace \u001b[38;5;241m=\u001b[39m \u001b[38;5;28mgetattr\u001b[39m(exc, \u001b[38;5;124m'\u001b[39m\u001b[38;5;124mstacktrace\u001b[39m\u001b[38;5;124m'\u001b[39m, \u001b[38;5;28;01mNone\u001b[39;00m)\n\u001b[1;32m---> 87\u001b[0m \u001b[43mtime\u001b[49m\u001b[38;5;241;43m.\u001b[39;49m\u001b[43msleep\u001b[49m\u001b[43m(\u001b[49m\u001b[38;5;28;43mself\u001b[39;49m\u001b[38;5;241;43m.\u001b[39;49m\u001b[43m_poll\u001b[49m\u001b[43m)\u001b[49m\n\u001b[0;32m     88\u001b[0m \u001b[38;5;28;01mif\u001b[39;00m time\u001b[38;5;241m.\u001b[39mmonotonic() \u001b[38;5;241m>\u001b[39m end_time:\n\u001b[0;32m     89\u001b[0m     \u001b[38;5;28;01mbreak\u001b[39;00m\n",
      "\u001b[1;31mKeyboardInterrupt\u001b[0m: "
     ]
    }
   ],
   "source": [
    "sbs = pd.read_excel('list_sb.xlsx',sheet_name=0)\n",
    "list_sb = sbs['sb'].unique()\n",
    "list_sb\n",
    "\n",
    "driver.switch_to.window(driver.window_handles[0])\n",
    "WebDriverWait(driver,20).until(EC.presence_of_element_located((By.XPATH,\"//span[text()='New Toolbox']\"))).click()\n",
    "driver.switch_to.window(driver.window_handles[-1])\n",
    "WebDriverWait(driver,20).until(EC.presence_of_element_located((By.ID,\"app_download_widget\"))).click()\n",
    "WebDriverWait(driver,20).until(EC.presence_of_element_located((By.ID,\"checkbox-PDF\"))).click()\n",
    "time.sleep(waktu_tunggu)\n",
    "for sb in list_sb:\n",
    "    # Scroll\n",
    "    cari = WebDriverWait(driver,20).until(EC.element_to_be_clickable((By.ID,\"Document Number_dropdown\")))\n",
    "    ActionChains(driver).move_to_element(WebDriverWait(driver,20).until(EC.presence_of_element_located((By.ID,\"fromDateId\")))).perform()\n",
    "    cari.click()\n",
    "    WebDriverWait(driver,20).until(EC.presence_of_element_located((By.ID,\"facet_input\"))).send_keys(sb)\n",
    "    WebDriverWait(driver,20).until(EC.presence_of_element_located((By.XPATH,f\"//*[contains(@id, '{sb}')]\"))).click()\n",
    "    WebDriverWait(driver,20).until(EC.presence_of_element_located((By.XPATH,\"//*[@id='Document_Number_facet']/div/div[1]/div/div/div/div[2]/div/span\"))).click()\n",
    "    try:\n",
    "        dnld = WebDriverWait(driver,20).until(EC.element_to_be_clickable((By.XPATH,f\"//i[contains(@id, '{sb}')]\")))\n",
    "        dnld.click()\n",
    "    except Exception: \n",
    "        print(Exception)\n",
    "        \n",
    "    time.sleep(2)\n",
    "    WebDriverWait(driver,20).until(EC.presence_of_element_located((By.XPATH,\"//*[@id='Document Number_dropdown']/div/div/div/i\"))).click()\n",
    "    time.sleep(waktu_tunggu)"
   ]
  },
  {
   "cell_type": "markdown",
   "id": "3c29a094",
   "metadata": {},
   "source": [
    "### Scrape and list revision"
   ]
  },
  {
   "cell_type": "code",
   "execution_count": 26,
   "id": "aab05518",
   "metadata": {},
   "outputs": [],
   "source": [
    "sbs = pd.read_excel('list_sb.xlsx',sheet_name=0)\n",
    "list_sb = sbs['sb'].unique()\n",
    "# list_sb\n",
    "sbrev = []\n",
    "\n",
    "\n",
    "driver.switch_to.window(driver.window_handles[0])\n",
    "WebDriverWait(driver,20).until(EC.presence_of_element_located((By.XPATH,\"//span[text()='New Toolbox']\"))).click()\n",
    "driver.switch_to.window(driver.window_handles[-1])\n",
    "WebDriverWait(driver,20).until(EC.presence_of_element_located((By.ID,\"app_download_widget\"))).click()\n",
    "WebDriverWait(driver,20).until(EC.presence_of_element_located((By.ID,\"checkbox-PDF\"))).click()\n",
    "time.sleep(waktu_tunggu)\n",
    "for sb in list_sb:\n",
    "    # Scroll\n",
    "    cari = WebDriverWait(driver,20).until(EC.element_to_be_clickable((By.ID,\"Document Number_dropdown\")))\n",
    "    ActionChains(driver).move_to_element(WebDriverWait(driver,20).until(EC.presence_of_element_located((By.ID,\"fromDateId\")))).perform()\n",
    "    cari.click()\n",
    "    WebDriverWait(driver,20).until(EC.presence_of_element_located((By.ID,\"facet_input\"))).send_keys(sb)\n",
    "    WebDriverWait(driver,20).until(EC.presence_of_element_located((By.XPATH,f\"//*[contains(@id, '{sb}')]\"))).click()\n",
    "    WebDriverWait(driver,20).until(EC.presence_of_element_located((By.XPATH,\"//*[@id='Document_Number_facet']/div/div[1]/div/div/div/div[2]/div/span\"))).click()\n",
    "    try:\n",
    "        WebDriverWait(driver,10).until(EC.element_to_be_clickable((By.XPATH,f\"//i[contains(@id, '{sb})]\")))\n",
    "    except Exception: \n",
    "        WebDriverWait(driver,10).until(EC.element_to_be_clickable((By.XPATH,f\"//i[contains(@id, '{sb.replace('-','A')}')]\")))\n",
    "        \n",
    "    try:\n",
    "        sbrev.append(\n",
    "        WebDriverWait(driver,20).until(EC.presence_of_element_located((By.XPATH,\"//*[contains(@id, 'rev_')]\"))).get_attribute(\"innerHTML\")\n",
    "        )\n",
    "    except Exception: \n",
    "        sbrev.append('error')\n",
    "        print(Exception)\n",
    "        \n",
    "    time.sleep(2)\n",
    "    WebDriverWait(driver,20).until(EC.presence_of_element_located((By.XPATH,\"//*[@id='Document Number_dropdown']/div/div/div/i\"))).click()\n",
    "    time.sleep(waktu_tunggu)"
   ]
  },
  {
   "cell_type": "code",
   "execution_count": 30,
   "id": "ac4ce53f",
   "metadata": {},
   "outputs": [],
   "source": [
    "sbs = pd.DataFrame({'sb':list_sb,'rev':sbrev})"
   ]
  },
  {
   "cell_type": "code",
   "execution_count": 32,
   "id": "6cabcacf",
   "metadata": {},
   "outputs": [],
   "source": [
    "sbs.to_csv('sbs.csv')"
   ]
  },
  {
   "cell_type": "code",
   "execution_count": null,
   "id": "d620ce6b",
   "metadata": {},
   "outputs": [],
   "source": []
  }
 ],
 "metadata": {
  "kernelspec": {
   "display_name": "Python 3 (ipykernel)",
   "language": "python",
   "name": "python3"
  },
  "language_info": {
   "codemirror_mode": {
    "name": "ipython",
    "version": 3
   },
   "file_extension": ".py",
   "mimetype": "text/x-python",
   "name": "python",
   "nbconvert_exporter": "python",
   "pygments_lexer": "ipython3",
   "version": "3.9.12"
  }
 },
 "nbformat": 4,
 "nbformat_minor": 5
}
