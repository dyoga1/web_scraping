{
 "cells": [
  {
   "cell_type": "code",
   "execution_count": 46,
   "id": "04d5bcb4",
   "metadata": {},
   "outputs": [],
   "source": [
    "from selenium import webdriver\n",
    "from selenium.webdriver.common.keys import Keys\n",
    "from bs4 import BeautifulSoup\n",
    "import pandas as pd\n",
    "\n",
    "from selenium.webdriver.chrome.options import Options\n",
    "from selenium.webdriver.support.ui import Select\n",
    "from selenium.webdriver.common.by import By\n",
    "\n",
    "from selenium.webdriver.support.ui import WebDriverWait\n",
    "from selenium.webdriver.support import expected_conditions as EC"
   ]
  },
  {
   "cell_type": "code",
   "execution_count": 50,
   "id": "d1a99d05",
   "metadata": {},
   "outputs": [
    {
     "name": "stderr",
     "output_type": "stream",
     "text": [
      "C:\\Users\\581825\\AppData\\Local\\Temp\\ipykernel_12768\\2532385447.py:4: DeprecationWarning: executable_path has been deprecated, please pass in a Service object\n",
      "  driver = webdriver.Chrome(\"chromedriver.exe\")\n"
     ]
    }
   ],
   "source": [
    "chrome_options = Options()\n",
    "# chrome_options.add_argument(\"--headless\")\n",
    "# driver = webdriver.Chrome(\"chromedriver.exe\",options=chrome_options)\n",
    "driver = webdriver.Chrome(\"chromedriver.exe\")\n",
    "\n",
    "driver.get(\"https://search.dca.ca.gov/advanced\")\n",
    "page=BeautifulSoup(driver.page_source)\n",
    "\n",
    "cities = []\n",
    "ca_cities = page.find('optgroup',{'id':'CA_cities'})\n",
    "for city in ca_cities.find_all('option'):\n",
    "    cities.append(city['value'])"
   ]
  },
  {
   "cell_type": "code",
   "execution_count": 51,
   "id": "dfaf5e4d",
   "metadata": {},
   "outputs": [
    {
     "ename": "AttributeError",
     "evalue": "'NoneType' object has no attribute 'text'",
     "output_type": "error",
     "traceback": [
      "\u001b[1;31m---------------------------------------------------------------------------\u001b[0m",
      "\u001b[1;31mAttributeError\u001b[0m                            Traceback (most recent call last)",
      "Input \u001b[1;32mIn [51]\u001b[0m, in \u001b[0;36m<cell line: 14>\u001b[1;34m()\u001b[0m\n\u001b[0;32m     46\u001b[0m name\u001b[38;5;241m.\u001b[39mappend(detail_page\u001b[38;5;241m.\u001b[39mfind(\u001b[38;5;124m'\u001b[39m\u001b[38;5;124mp\u001b[39m\u001b[38;5;124m'\u001b[39m,{\u001b[38;5;124m'\u001b[39m\u001b[38;5;124mid\u001b[39m\u001b[38;5;124m'\u001b[39m:\u001b[38;5;124m'\u001b[39m\u001b[38;5;124mname\u001b[39m\u001b[38;5;124m'\u001b[39m})\u001b[38;5;241m.\u001b[39mtext\u001b[38;5;241m.\u001b[39mstrip())\n\u001b[0;32m     47\u001b[0m license_type\u001b[38;5;241m.\u001b[39mappend(detail_page\u001b[38;5;241m.\u001b[39mfind(\u001b[38;5;124m'\u001b[39m\u001b[38;5;124mp\u001b[39m\u001b[38;5;124m'\u001b[39m,{\u001b[38;5;124m'\u001b[39m\u001b[38;5;124mid\u001b[39m\u001b[38;5;124m'\u001b[39m:\u001b[38;5;124m'\u001b[39m\u001b[38;5;124mlicType\u001b[39m\u001b[38;5;124m'\u001b[39m})\u001b[38;5;241m.\u001b[39mtext\u001b[38;5;241m.\u001b[39mstrip())\n\u001b[1;32m---> 48\u001b[0m license_status\u001b[38;5;241m.\u001b[39mappend(\u001b[43mdetail_page\u001b[49m\u001b[38;5;241;43m.\u001b[39;49m\u001b[43mfind\u001b[49m\u001b[43m(\u001b[49m\u001b[38;5;124;43m'\u001b[39;49m\u001b[38;5;124;43mspan\u001b[39;49m\u001b[38;5;124;43m'\u001b[39;49m\u001b[43m,\u001b[49m\u001b[43m{\u001b[49m\u001b[38;5;124;43m'\u001b[39;49m\u001b[38;5;124;43mclass\u001b[39;49m\u001b[38;5;124;43m'\u001b[39;49m\u001b[43m:\u001b[49m\u001b[38;5;124;43m'\u001b[39;49m\u001b[38;5;124;43mstatus_10\u001b[39;49m\u001b[38;5;124;43m'\u001b[39;49m\u001b[43m}\u001b[49m\u001b[43m)\u001b[49m\u001b[38;5;241;43m.\u001b[39;49m\u001b[43mtext\u001b[49m\u001b[38;5;241m.\u001b[39mstrip())\n\u001b[0;32m     49\u001b[0m phone\u001b[38;5;241m.\u001b[39mappend(detail_page\u001b[38;5;241m.\u001b[39mfind(\u001b[38;5;124m'\u001b[39m\u001b[38;5;124mp\u001b[39m\u001b[38;5;124m'\u001b[39m,{\u001b[38;5;124m'\u001b[39m\u001b[38;5;124mid\u001b[39m\u001b[38;5;124m'\u001b[39m:\u001b[38;5;124m'\u001b[39m\u001b[38;5;124mlicRegClass\u001b[39m\u001b[38;5;124m'\u001b[39m})\u001b[38;5;241m.\u001b[39mtext\u001b[38;5;241m.\u001b[39mstrip())\n\u001b[0;32m     50\u001b[0m address1\u001b[38;5;241m.\u001b[39mappend(detail_page\u001b[38;5;241m.\u001b[39mfind(\u001b[38;5;124m'\u001b[39m\u001b[38;5;124mp\u001b[39m\u001b[38;5;124m'\u001b[39m,{\u001b[38;5;124m'\u001b[39m\u001b[38;5;124mid\u001b[39m\u001b[38;5;124m'\u001b[39m:\u001b[38;5;124m'\u001b[39m\u001b[38;5;124maddress\u001b[39m\u001b[38;5;124m'\u001b[39m})\u001b[38;5;241m.\u001b[39mtext\u001b[38;5;241m.\u001b[39mstrip())\n",
      "\u001b[1;31mAttributeError\u001b[0m: 'NoneType' object has no attribute 'text'"
     ]
    }
   ],
   "source": [
    "name = []\n",
    "license_type = []\n",
    "license_status = []\n",
    "phone = []\n",
    "address1 = []\n",
    "address2 = []\n",
    "city = []\n",
    "state = [] \n",
    "zipcode = []\n",
    "country = []\n",
    "pers_name1 = []\n",
    "pers_name2 = []\n",
    "\n",
    "for city in cities:\n",
    "    driver.get(\"https://search.dca.ca.gov/advanced\")\n",
    "    element = WebDriverWait(driver, 10).until(\n",
    "        EC.presence_of_element_located((By.ID, \"boardCode\"))\n",
    "    )\n",
    "\n",
    "    boardCode = Select(driver.find_element(By.ID,\"boardCode\"))\n",
    "    boardCode.select_by_value(\"21\")\n",
    "\n",
    "    licenseType = Select(driver.find_element(By.ID, \"licenseType\"))\n",
    "    licenseType.select_by_value(\"52,53,54\")\n",
    "\n",
    "    cities_sel = Select(driver.find_element(By.ID, \"cities\"))\n",
    "    cities_sel.select_by_value(city)\n",
    "\n",
    "    driver.find_element(By.ID, \"srchSubmitHome\").click()\n",
    "    \n",
    "    element = WebDriverWait(driver, 10).until(\n",
    "        EC.presence_of_element_located((By.ID, \"results\"))\n",
    "    )\n",
    "\n",
    "    result_page=BeautifulSoup(driver.page_source)\n",
    "    result_page = result_page.find_all('a',string='More Detail')\n",
    "    for link in result_page:\n",
    "        alink = 'https://search.dca.ca.gov'+link['href']\n",
    "        driver.get(alink)\n",
    "\n",
    "        element = WebDriverWait(driver, 10).until(\n",
    "        EC.presence_of_element_located((By.ID, \"licDetail\"))\n",
    "        )\n",
    "        detail_page=BeautifulSoup(driver.page_source)\n",
    "\n",
    "        name.append(detail_page.find('p',{'id':'name'}).text.strip())\n",
    "        license_type.append(detail_page.find('p',{'id':'licType'}).text.strip())\n",
    "        license_status.append(detail_page.find('span',{'class':'status_10'}).text.strip())\n",
    "        phone.append(detail_page.find('p',{'id':'licRegClass'}).text.strip())\n",
    "        address1.append(detail_page.find('p',{'id':'address'}).text.strip())\n",
    "#                 address2.append(detail_page.find('p',{'id':'name'}).text.strip())\n",
    "#                 city.append(detail_page.find('p',{'id':'name'}).text.strip())\n",
    "#                 state.append(detail_page.find('p',{'id':'name'}).text.strip())\n",
    "#                 zipcode.append(detail_page.find('p',{'id':'name'}).text.strip())\n",
    "\n",
    "                \n",
    "\n",
    "# name = soup.find('div',{\"bind\": lambda value: value and value.startswith(\"317164bb\")})\n",
    "# nama = soup.find_all(\"div\", id=lambda value: value and value.startswith(\"span3\"))"
   ]
  },
  {
   "cell_type": "code",
   "execution_count": null,
   "id": "aab05518",
   "metadata": {},
   "outputs": [],
   "source": [
    "df = pd.DataFrame({'Name':name,'License Type': license_type,'License Status': license_status,'Phone':phone,'Address':address1})"
   ]
  },
  {
   "cell_type": "code",
   "execution_count": null,
   "id": "ac4ce53f",
   "metadata": {},
   "outputs": [],
   "source": []
  }
 ],
 "metadata": {
  "kernelspec": {
   "display_name": "Python 3 (ipykernel)",
   "language": "python",
   "name": "python3"
  },
  "language_info": {
   "codemirror_mode": {
    "name": "ipython",
    "version": 3
   },
   "file_extension": ".py",
   "mimetype": "text/x-python",
   "name": "python",
   "nbconvert_exporter": "python",
   "pygments_lexer": "ipython3",
   "version": "3.9.12"
  }
 },
 "nbformat": 4,
 "nbformat_minor": 5
}
